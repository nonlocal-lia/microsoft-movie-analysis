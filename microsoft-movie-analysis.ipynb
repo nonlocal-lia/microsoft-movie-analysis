{
 "cells": [
  {
   "cell_type": "markdown",
   "metadata": {},
   "source": [
    "![example](images/director_shot.jpeg)"
   ]
  },
  {
   "cell_type": "markdown",
   "metadata": {},
   "source": [
    "# Microsoft Movie Recommendations\n",
    "\n",
    "**Author:** Lia Elwonger\n"
   ]
  },
  {
   "cell_type": "markdown",
   "metadata": {},
   "source": [
    "## Overview\n",
    "***\n",
    "\n",
    "Microsoft is perhaps best know as a software company, but has many media holding, perhaps most notably in video games via their Xbox consoles and games. How might this company leverage its capital and brand to enter into the film industry?\n",
    "\n",
    "In this project I analyze data from IMDb and The Numbers to find if there is any association between three variables: genre, director, and release date and the average worldwide profit made on a film.\n",
    "\n",
    "As result of this analysis, I suggest that Microsoft:\n",
    "* Release a Sci-Fi film.\n",
    "* Hire Josh Whedon to direct it. \n",
    "* Aim to release the movie in May with June as a backup in case of delays."
   ]
  },
  {
   "cell_type": "markdown",
   "metadata": {},
   "source": [
    "## Business Problem\n",
    "***\n",
    "\n",
    "Microsoft has decided to create a new movie studio, but they lack experience in this market. There are many difficult problems facing new studios entering the market.\n",
    "\n",
    "To aid in this endeavor we will give recommendations to help address three core problems that any studio will have to answer in the course of making a project:\n",
    "\n",
    "* Determining what type of project to pursue.\n",
    "* Determining what talent should be hired.\n",
    "* Determining the timeline of the project.\n",
    "\n",
    "To help answer elements of these problems we will investigate the answers to three related questions:\n",
    "\n",
    "* What genre has had the high average profit in the past 20 years?\n",
    "* What directors have had the highest average return in that genre?\n",
    "* What month of the year is good to release a major film?\n",
    "\n",
    "Picking a genre is necessary to give an initial outline to the projects, and hiring a director is a good way of determining what other talent is appropriate since they can bring their expertise to help answer lower level talent decisions."
   ]
  },
  {
   "cell_type": "markdown",
   "metadata": {},
   "source": [
    "## Data Understanding\n",
    "***"
   ]
  },
  {
   "cell_type": "code",
   "execution_count": 1,
   "metadata": {},
   "outputs": [],
   "source": [
    "# Import standard packages\n",
    "import pandas as pd\n",
    "import numpy as np"
   ]
  },
  {
   "cell_type": "markdown",
   "metadata": {},
   "source": [
    "We will be using data from IMDB and The Numbers in our analysis.\n",
    "Our target variable for all three recommendations will be mean profit, since profit is the ultimate objective of any business project.\n",
    "We will look to see if there is any association between the target and three variables:\n",
    "1. Film Genre\n",
    "2. Month of Release\n",
    "3. Director"
   ]
  },
  {
   "cell_type": "markdown",
   "metadata": {},
   "source": [
    "### Budget, Revenue, and Release Date Data"
   ]
  },
  {
   "cell_type": "markdown",
   "metadata": {},
   "source": [
    "The data on budgets, revenue and release date will come from the website \"The Numbers\". It includes data on production budget as well as both domestic and world wide gross revenue, all stored as objects rather than int. There is no data on non-production related expenses such as advertizing budgets, which can also deeply impact the profitability of a project. The release date data is stored as an object rather than datetime or int."
   ]
  },
  {
   "cell_type": "code",
   "execution_count": 2,
   "metadata": {},
   "outputs": [
    {
     "data": {
      "text/html": [
       "<div>\n",
       "<style scoped>\n",
       "    .dataframe tbody tr th:only-of-type {\n",
       "        vertical-align: middle;\n",
       "    }\n",
       "\n",
       "    .dataframe tbody tr th {\n",
       "        vertical-align: top;\n",
       "    }\n",
       "\n",
       "    .dataframe thead th {\n",
       "        text-align: right;\n",
       "    }\n",
       "</style>\n",
       "<table border=\"1\" class=\"dataframe\">\n",
       "  <thead>\n",
       "    <tr style=\"text-align: right;\">\n",
       "      <th></th>\n",
       "      <th>id</th>\n",
       "      <th>release_date</th>\n",
       "      <th>movie</th>\n",
       "      <th>production_budget</th>\n",
       "      <th>domestic_gross</th>\n",
       "      <th>worldwide_gross</th>\n",
       "    </tr>\n",
       "  </thead>\n",
       "  <tbody>\n",
       "    <tr>\n",
       "      <th>0</th>\n",
       "      <td>1</td>\n",
       "      <td>Dec 18, 2009</td>\n",
       "      <td>Avatar</td>\n",
       "      <td>$425,000,000</td>\n",
       "      <td>$760,507,625</td>\n",
       "      <td>$2,776,345,279</td>\n",
       "    </tr>\n",
       "    <tr>\n",
       "      <th>1</th>\n",
       "      <td>2</td>\n",
       "      <td>May 20, 2011</td>\n",
       "      <td>Pirates of the Caribbean: On Stranger Tides</td>\n",
       "      <td>$410,600,000</td>\n",
       "      <td>$241,063,875</td>\n",
       "      <td>$1,045,663,875</td>\n",
       "    </tr>\n",
       "    <tr>\n",
       "      <th>2</th>\n",
       "      <td>3</td>\n",
       "      <td>Jun 7, 2019</td>\n",
       "      <td>Dark Phoenix</td>\n",
       "      <td>$350,000,000</td>\n",
       "      <td>$42,762,350</td>\n",
       "      <td>$149,762,350</td>\n",
       "    </tr>\n",
       "  </tbody>\n",
       "</table>\n",
       "</div>"
      ],
      "text/plain": [
       "   id  release_date                                        movie  \\\n",
       "0   1  Dec 18, 2009                                       Avatar   \n",
       "1   2  May 20, 2011  Pirates of the Caribbean: On Stranger Tides   \n",
       "2   3   Jun 7, 2019                                 Dark Phoenix   \n",
       "\n",
       "  production_budget domestic_gross worldwide_gross  \n",
       "0      $425,000,000   $760,507,625  $2,776,345,279  \n",
       "1      $410,600,000   $241,063,875  $1,045,663,875  \n",
       "2      $350,000,000    $42,762,350    $149,762,350  "
      ]
     },
     "execution_count": 2,
     "metadata": {},
     "output_type": "execute_result"
    }
   ],
   "source": [
    "budgets_df = pd.read_csv('data/zippedData/tn.movie_budgets.csv.gz')\n",
    "budgets_df.head(3)"
   ]
  },
  {
   "cell_type": "code",
   "execution_count": 3,
   "metadata": {},
   "outputs": [
    {
     "name": "stdout",
     "output_type": "stream",
     "text": [
      "<class 'pandas.core.frame.DataFrame'>\n",
      "RangeIndex: 5782 entries, 0 to 5781\n",
      "Data columns (total 6 columns):\n",
      " #   Column             Non-Null Count  Dtype \n",
      "---  ------             --------------  ----- \n",
      " 0   id                 5782 non-null   int64 \n",
      " 1   release_date       5782 non-null   object\n",
      " 2   movie              5782 non-null   object\n",
      " 3   production_budget  5782 non-null   object\n",
      " 4   domestic_gross     5782 non-null   object\n",
      " 5   worldwide_gross    5782 non-null   object\n",
      "dtypes: int64(1), object(5)\n",
      "memory usage: 271.2+ KB\n"
     ]
    }
   ],
   "source": [
    "budgets_df.info()"
   ]
  },
  {
   "cell_type": "markdown",
   "metadata": {},
   "source": [
    "This dataset is free from missing data and doesn't have entirely duplicate rows, but does have multiple movies that are listed under identical names. For example, the 1978, 2007, and 2018 Halloween movies are just called Halloween."
   ]
  },
  {
   "cell_type": "code",
   "execution_count": 4,
   "metadata": {},
   "outputs": [
    {
     "data": {
      "text/plain": [
       "Home                           3\n",
       "King Kong                      3\n",
       "Halloween                      3\n",
       "Hellboy                        2\n",
       "Around the World in 80 Days    2\n",
       "Name: movie, dtype: int64"
      ]
     },
     "execution_count": 4,
     "metadata": {},
     "output_type": "execute_result"
    }
   ],
   "source": [
    "budgets_df['movie'].value_counts()[:5]"
   ]
  },
  {
   "cell_type": "code",
   "execution_count": 5,
   "metadata": {},
   "outputs": [
    {
     "data": {
      "text/html": [
       "<div>\n",
       "<style scoped>\n",
       "    .dataframe tbody tr th:only-of-type {\n",
       "        vertical-align: middle;\n",
       "    }\n",
       "\n",
       "    .dataframe tbody tr th {\n",
       "        vertical-align: top;\n",
       "    }\n",
       "\n",
       "    .dataframe thead th {\n",
       "        text-align: right;\n",
       "    }\n",
       "</style>\n",
       "<table border=\"1\" class=\"dataframe\">\n",
       "  <thead>\n",
       "    <tr style=\"text-align: right;\">\n",
       "      <th></th>\n",
       "      <th>id</th>\n",
       "      <th>release_date</th>\n",
       "      <th>movie</th>\n",
       "      <th>production_budget</th>\n",
       "      <th>domestic_gross</th>\n",
       "      <th>worldwide_gross</th>\n",
       "    </tr>\n",
       "  </thead>\n",
       "  <tbody>\n",
       "    <tr>\n",
       "      <th>3014</th>\n",
       "      <td>15</td>\n",
       "      <td>Aug 31, 2007</td>\n",
       "      <td>Halloween</td>\n",
       "      <td>$15,000,000</td>\n",
       "      <td>$58,269,151</td>\n",
       "      <td>$77,514,401</td>\n",
       "    </tr>\n",
       "    <tr>\n",
       "      <th>3535</th>\n",
       "      <td>36</td>\n",
       "      <td>Oct 19, 2018</td>\n",
       "      <td>Halloween</td>\n",
       "      <td>$10,000,000</td>\n",
       "      <td>$159,342,015</td>\n",
       "      <td>$254,900,667</td>\n",
       "    </tr>\n",
       "    <tr>\n",
       "      <th>5536</th>\n",
       "      <td>37</td>\n",
       "      <td>Oct 17, 1978</td>\n",
       "      <td>Halloween</td>\n",
       "      <td>$325,000</td>\n",
       "      <td>$47,000,000</td>\n",
       "      <td>$70,000,000</td>\n",
       "    </tr>\n",
       "  </tbody>\n",
       "</table>\n",
       "</div>"
      ],
      "text/plain": [
       "      id  release_date      movie production_budget domestic_gross  \\\n",
       "3014  15  Aug 31, 2007  Halloween       $15,000,000    $58,269,151   \n",
       "3535  36  Oct 19, 2018  Halloween       $10,000,000   $159,342,015   \n",
       "5536  37  Oct 17, 1978  Halloween          $325,000    $47,000,000   \n",
       "\n",
       "     worldwide_gross  \n",
       "3014     $77,514,401  \n",
       "3535    $254,900,667  \n",
       "5536     $70,000,000  "
      ]
     },
     "execution_count": 5,
     "metadata": {},
     "output_type": "execute_result"
    }
   ],
   "source": [
    "budgets_df[budgets_df['movie'] == 'Halloween']"
   ]
  },
  {
   "cell_type": "markdown",
   "metadata": {},
   "source": [
    "### Genre Data"
   ]
  },
  {
   "cell_type": "markdown",
   "metadata": {},
   "source": [
    "The data on genres comes from IMDb and includes a column a containing comma seperated listing of the genres that the film has been categorized as, as well as name, runtime and release year."
   ]
  },
  {
   "cell_type": "code",
   "execution_count": 6,
   "metadata": {},
   "outputs": [
    {
     "data": {
      "text/html": [
       "<div>\n",
       "<style scoped>\n",
       "    .dataframe tbody tr th:only-of-type {\n",
       "        vertical-align: middle;\n",
       "    }\n",
       "\n",
       "    .dataframe tbody tr th {\n",
       "        vertical-align: top;\n",
       "    }\n",
       "\n",
       "    .dataframe thead th {\n",
       "        text-align: right;\n",
       "    }\n",
       "</style>\n",
       "<table border=\"1\" class=\"dataframe\">\n",
       "  <thead>\n",
       "    <tr style=\"text-align: right;\">\n",
       "      <th></th>\n",
       "      <th>tconst</th>\n",
       "      <th>primary_title</th>\n",
       "      <th>original_title</th>\n",
       "      <th>start_year</th>\n",
       "      <th>runtime_minutes</th>\n",
       "      <th>genres</th>\n",
       "    </tr>\n",
       "  </thead>\n",
       "  <tbody>\n",
       "    <tr>\n",
       "      <th>0</th>\n",
       "      <td>tt0063540</td>\n",
       "      <td>Sunghursh</td>\n",
       "      <td>Sunghursh</td>\n",
       "      <td>2013</td>\n",
       "      <td>175.0</td>\n",
       "      <td>Action,Crime,Drama</td>\n",
       "    </tr>\n",
       "    <tr>\n",
       "      <th>1</th>\n",
       "      <td>tt0066787</td>\n",
       "      <td>One Day Before the Rainy Season</td>\n",
       "      <td>Ashad Ka Ek Din</td>\n",
       "      <td>2019</td>\n",
       "      <td>114.0</td>\n",
       "      <td>Biography,Drama</td>\n",
       "    </tr>\n",
       "    <tr>\n",
       "      <th>2</th>\n",
       "      <td>tt0069049</td>\n",
       "      <td>The Other Side of the Wind</td>\n",
       "      <td>The Other Side of the Wind</td>\n",
       "      <td>2018</td>\n",
       "      <td>122.0</td>\n",
       "      <td>Drama</td>\n",
       "    </tr>\n",
       "  </tbody>\n",
       "</table>\n",
       "</div>"
      ],
      "text/plain": [
       "      tconst                    primary_title              original_title  \\\n",
       "0  tt0063540                        Sunghursh                   Sunghursh   \n",
       "1  tt0066787  One Day Before the Rainy Season             Ashad Ka Ek Din   \n",
       "2  tt0069049       The Other Side of the Wind  The Other Side of the Wind   \n",
       "\n",
       "   start_year  runtime_minutes              genres  \n",
       "0        2013            175.0  Action,Crime,Drama  \n",
       "1        2019            114.0     Biography,Drama  \n",
       "2        2018            122.0               Drama  "
      ]
     },
     "execution_count": 6,
     "metadata": {},
     "output_type": "execute_result"
    }
   ],
   "source": [
    "titles_df = pd.read_csv('data/zippedData/imdb.title.basics.csv.gz')\n",
    "titles_df.head(3)"
   ]
  },
  {
   "cell_type": "markdown",
   "metadata": {},
   "source": [
    "There is some missing runtime data and genre data and there is a similar issue of titles being repeated, which will have to be accounted for when merging the genre and budget dataframes."
   ]
  },
  {
   "cell_type": "code",
   "execution_count": 7,
   "metadata": {},
   "outputs": [
    {
     "name": "stdout",
     "output_type": "stream",
     "text": [
      "<class 'pandas.core.frame.DataFrame'>\n",
      "RangeIndex: 146144 entries, 0 to 146143\n",
      "Data columns (total 6 columns):\n",
      " #   Column           Non-Null Count   Dtype  \n",
      "---  ------           --------------   -----  \n",
      " 0   tconst           146144 non-null  object \n",
      " 1   primary_title    146144 non-null  object \n",
      " 2   original_title   146123 non-null  object \n",
      " 3   start_year       146144 non-null  int64  \n",
      " 4   runtime_minutes  114405 non-null  float64\n",
      " 5   genres           140736 non-null  object \n",
      "dtypes: float64(1), int64(1), object(4)\n",
      "memory usage: 6.7+ MB\n"
     ]
    }
   ],
   "source": [
    "titles_df.info()"
   ]
  },
  {
   "cell_type": "code",
   "execution_count": 8,
   "metadata": {},
   "outputs": [
    {
     "data": {
      "text/plain": [
       "Home          24\n",
       "The Return    20\n",
       "Broken        20\n",
       "Alone         16\n",
       "Homecoming    16\n",
       "Name: primary_title, dtype: int64"
      ]
     },
     "execution_count": 8,
     "metadata": {},
     "output_type": "execute_result"
    }
   ],
   "source": [
    "titles_df['primary_title'].value_counts()[:5]"
   ]
  },
  {
   "cell_type": "markdown",
   "metadata": {},
   "source": [
    "### Director Data"
   ]
  },
  {
   "cell_type": "markdown",
   "metadata": {},
   "source": [
    "Data for the director's names and films they worked on will come from IMDb as well and is spread over two files. One contains a listing on the role that each person perform on each film, but without their name. The other contains listing of the names of the people in the database along with the roles they typically serve, but without data on what role they play in each film they worked on. These will have to be joined."
   ]
  },
  {
   "cell_type": "code",
   "execution_count": 9,
   "metadata": {},
   "outputs": [
    {
     "data": {
      "text/html": [
       "<div>\n",
       "<style scoped>\n",
       "    .dataframe tbody tr th:only-of-type {\n",
       "        vertical-align: middle;\n",
       "    }\n",
       "\n",
       "    .dataframe tbody tr th {\n",
       "        vertical-align: top;\n",
       "    }\n",
       "\n",
       "    .dataframe thead th {\n",
       "        text-align: right;\n",
       "    }\n",
       "</style>\n",
       "<table border=\"1\" class=\"dataframe\">\n",
       "  <thead>\n",
       "    <tr style=\"text-align: right;\">\n",
       "      <th></th>\n",
       "      <th>tconst</th>\n",
       "      <th>ordering</th>\n",
       "      <th>nconst</th>\n",
       "      <th>category</th>\n",
       "      <th>job</th>\n",
       "      <th>characters</th>\n",
       "    </tr>\n",
       "  </thead>\n",
       "  <tbody>\n",
       "    <tr>\n",
       "      <th>0</th>\n",
       "      <td>tt0111414</td>\n",
       "      <td>1</td>\n",
       "      <td>nm0246005</td>\n",
       "      <td>actor</td>\n",
       "      <td>NaN</td>\n",
       "      <td>[\"The Man\"]</td>\n",
       "    </tr>\n",
       "    <tr>\n",
       "      <th>1</th>\n",
       "      <td>tt0111414</td>\n",
       "      <td>2</td>\n",
       "      <td>nm0398271</td>\n",
       "      <td>director</td>\n",
       "      <td>NaN</td>\n",
       "      <td>NaN</td>\n",
       "    </tr>\n",
       "    <tr>\n",
       "      <th>2</th>\n",
       "      <td>tt0111414</td>\n",
       "      <td>3</td>\n",
       "      <td>nm3739909</td>\n",
       "      <td>producer</td>\n",
       "      <td>producer</td>\n",
       "      <td>NaN</td>\n",
       "    </tr>\n",
       "  </tbody>\n",
       "</table>\n",
       "</div>"
      ],
      "text/plain": [
       "      tconst  ordering     nconst  category       job   characters\n",
       "0  tt0111414         1  nm0246005     actor       NaN  [\"The Man\"]\n",
       "1  tt0111414         2  nm0398271  director       NaN          NaN\n",
       "2  tt0111414         3  nm3739909  producer  producer          NaN"
      ]
     },
     "execution_count": 9,
     "metadata": {},
     "output_type": "execute_result"
    }
   ],
   "source": [
    "principles_df = pd.read_csv('data/zippedData/imdb.title.principals.csv.gz')\n",
    "principles_df.head(3)"
   ]
  },
  {
   "cell_type": "code",
   "execution_count": 10,
   "metadata": {
    "scrolled": true
   },
   "outputs": [
    {
     "data": {
      "text/html": [
       "<div>\n",
       "<style scoped>\n",
       "    .dataframe tbody tr th:only-of-type {\n",
       "        vertical-align: middle;\n",
       "    }\n",
       "\n",
       "    .dataframe tbody tr th {\n",
       "        vertical-align: top;\n",
       "    }\n",
       "\n",
       "    .dataframe thead th {\n",
       "        text-align: right;\n",
       "    }\n",
       "</style>\n",
       "<table border=\"1\" class=\"dataframe\">\n",
       "  <thead>\n",
       "    <tr style=\"text-align: right;\">\n",
       "      <th></th>\n",
       "      <th>nconst</th>\n",
       "      <th>primary_name</th>\n",
       "      <th>birth_year</th>\n",
       "      <th>death_year</th>\n",
       "      <th>primary_profession</th>\n",
       "      <th>known_for_titles</th>\n",
       "    </tr>\n",
       "  </thead>\n",
       "  <tbody>\n",
       "    <tr>\n",
       "      <th>0</th>\n",
       "      <td>nm0061671</td>\n",
       "      <td>Mary Ellen Bauder</td>\n",
       "      <td>NaN</td>\n",
       "      <td>NaN</td>\n",
       "      <td>miscellaneous,production_manager,producer</td>\n",
       "      <td>tt0837562,tt2398241,tt0844471,tt0118553</td>\n",
       "    </tr>\n",
       "    <tr>\n",
       "      <th>1</th>\n",
       "      <td>nm0061865</td>\n",
       "      <td>Joseph Bauer</td>\n",
       "      <td>NaN</td>\n",
       "      <td>NaN</td>\n",
       "      <td>composer,music_department,sound_department</td>\n",
       "      <td>tt0896534,tt6791238,tt0287072,tt1682940</td>\n",
       "    </tr>\n",
       "    <tr>\n",
       "      <th>2</th>\n",
       "      <td>nm0062070</td>\n",
       "      <td>Bruce Baum</td>\n",
       "      <td>NaN</td>\n",
       "      <td>NaN</td>\n",
       "      <td>miscellaneous,actor,writer</td>\n",
       "      <td>tt1470654,tt0363631,tt0104030,tt0102898</td>\n",
       "    </tr>\n",
       "  </tbody>\n",
       "</table>\n",
       "</div>"
      ],
      "text/plain": [
       "      nconst       primary_name  birth_year  death_year  \\\n",
       "0  nm0061671  Mary Ellen Bauder         NaN         NaN   \n",
       "1  nm0061865       Joseph Bauer         NaN         NaN   \n",
       "2  nm0062070         Bruce Baum         NaN         NaN   \n",
       "\n",
       "                           primary_profession  \\\n",
       "0   miscellaneous,production_manager,producer   \n",
       "1  composer,music_department,sound_department   \n",
       "2                  miscellaneous,actor,writer   \n",
       "\n",
       "                          known_for_titles  \n",
       "0  tt0837562,tt2398241,tt0844471,tt0118553  \n",
       "1  tt0896534,tt6791238,tt0287072,tt1682940  \n",
       "2  tt1470654,tt0363631,tt0104030,tt0102898  "
      ]
     },
     "execution_count": 10,
     "metadata": {},
     "output_type": "execute_result"
    }
   ],
   "source": [
    "names_df = pd.read_csv(\"data/zippedData/imdb.name.basics.csv.gz\") \n",
    "names_df.head(3)"
   ]
  },
  {
   "cell_type": "markdown",
   "metadata": {},
   "source": [
    "Both dataset contain missing data, but not in the columns that will be relevant for our analysis."
   ]
  },
  {
   "cell_type": "code",
   "execution_count": 11,
   "metadata": {},
   "outputs": [
    {
     "name": "stdout",
     "output_type": "stream",
     "text": [
      "<class 'pandas.core.frame.DataFrame'>\n",
      "RangeIndex: 1028186 entries, 0 to 1028185\n",
      "Data columns (total 6 columns):\n",
      " #   Column      Non-Null Count    Dtype \n",
      "---  ------      --------------    ----- \n",
      " 0   tconst      1028186 non-null  object\n",
      " 1   ordering    1028186 non-null  int64 \n",
      " 2   nconst      1028186 non-null  object\n",
      " 3   category    1028186 non-null  object\n",
      " 4   job         177684 non-null   object\n",
      " 5   characters  393360 non-null   object\n",
      "dtypes: int64(1), object(5)\n",
      "memory usage: 47.1+ MB\n"
     ]
    }
   ],
   "source": [
    "principles_df.info()"
   ]
  },
  {
   "cell_type": "code",
   "execution_count": 12,
   "metadata": {},
   "outputs": [
    {
     "name": "stdout",
     "output_type": "stream",
     "text": [
      "<class 'pandas.core.frame.DataFrame'>\n",
      "RangeIndex: 606648 entries, 0 to 606647\n",
      "Data columns (total 6 columns):\n",
      " #   Column              Non-Null Count   Dtype  \n",
      "---  ------              --------------   -----  \n",
      " 0   nconst              606648 non-null  object \n",
      " 1   primary_name        606648 non-null  object \n",
      " 2   birth_year          82736 non-null   float64\n",
      " 3   death_year          6783 non-null    float64\n",
      " 4   primary_profession  555308 non-null  object \n",
      " 5   known_for_titles    576444 non-null  object \n",
      "dtypes: float64(2), object(4)\n",
      "memory usage: 27.8+ MB\n"
     ]
    }
   ],
   "source": [
    "names_df.info()"
   ]
  },
  {
   "cell_type": "markdown",
   "metadata": {},
   "source": [
    "## Data Preparation\n",
    "***"
   ]
  },
  {
   "cell_type": "markdown",
   "metadata": {},
   "source": [
    "### Cleaning the Data on Genre and Release Year"
   ]
  },
  {
   "cell_type": "markdown",
   "metadata": {},
   "source": [
    "We will begin by joining the dataframes containing the genre information and the budget information and droping some columns that are irrelevant to our analysis. We will join them using both the names of the movies and the release year on the assumption that there aren't identically named movies released in the same year. To do that we will have to extract the year from the release date in the budget dataframe which will include turn the column data into a datetime."
   ]
  },
  {
   "cell_type": "code",
   "execution_count": 13,
   "metadata": {},
   "outputs": [],
   "source": [
    "from code import data_preparation as dp"
   ]
  },
  {
   "cell_type": "code",
   "execution_count": 14,
   "metadata": {},
   "outputs": [
    {
     "data": {
      "text/html": [
       "<div>\n",
       "<style scoped>\n",
       "    .dataframe tbody tr th:only-of-type {\n",
       "        vertical-align: middle;\n",
       "    }\n",
       "\n",
       "    .dataframe tbody tr th {\n",
       "        vertical-align: top;\n",
       "    }\n",
       "\n",
       "    .dataframe thead th {\n",
       "        text-align: right;\n",
       "    }\n",
       "</style>\n",
       "<table border=\"1\" class=\"dataframe\">\n",
       "  <thead>\n",
       "    <tr style=\"text-align: right;\">\n",
       "      <th></th>\n",
       "      <th>id</th>\n",
       "      <th>release_date</th>\n",
       "      <th>primary_title</th>\n",
       "      <th>production_budget</th>\n",
       "      <th>domestic_gross</th>\n",
       "      <th>worldwide_gross</th>\n",
       "      <th>start_year</th>\n",
       "      <th>tconst</th>\n",
       "      <th>genres</th>\n",
       "    </tr>\n",
       "  </thead>\n",
       "  <tbody>\n",
       "    <tr>\n",
       "      <th>0</th>\n",
       "      <td>2</td>\n",
       "      <td>2011-05-20</td>\n",
       "      <td>Pirates of the Caribbean: On Stranger Tides</td>\n",
       "      <td>$410,600,000</td>\n",
       "      <td>$241,063,875</td>\n",
       "      <td>$1,045,663,875</td>\n",
       "      <td>2011</td>\n",
       "      <td>tt1298650</td>\n",
       "      <td>Action,Adventure,Fantasy</td>\n",
       "    </tr>\n",
       "    <tr>\n",
       "      <th>1</th>\n",
       "      <td>3</td>\n",
       "      <td>2019-06-07</td>\n",
       "      <td>Dark Phoenix</td>\n",
       "      <td>$350,000,000</td>\n",
       "      <td>$42,762,350</td>\n",
       "      <td>$149,762,350</td>\n",
       "      <td>2019</td>\n",
       "      <td>tt6565702</td>\n",
       "      <td>Action,Adventure,Sci-Fi</td>\n",
       "    </tr>\n",
       "    <tr>\n",
       "      <th>2</th>\n",
       "      <td>4</td>\n",
       "      <td>2015-05-01</td>\n",
       "      <td>Avengers: Age of Ultron</td>\n",
       "      <td>$330,600,000</td>\n",
       "      <td>$459,005,868</td>\n",
       "      <td>$1,403,013,963</td>\n",
       "      <td>2015</td>\n",
       "      <td>tt2395427</td>\n",
       "      <td>Action,Adventure,Sci-Fi</td>\n",
       "    </tr>\n",
       "  </tbody>\n",
       "</table>\n",
       "</div>"
      ],
      "text/plain": [
       "   id release_date                                primary_title  \\\n",
       "0   2   2011-05-20  Pirates of the Caribbean: On Stranger Tides   \n",
       "1   3   2019-06-07                                 Dark Phoenix   \n",
       "2   4   2015-05-01                      Avengers: Age of Ultron   \n",
       "\n",
       "  production_budget domestic_gross worldwide_gross  start_year     tconst  \\\n",
       "0      $410,600,000   $241,063,875  $1,045,663,875        2011  tt1298650   \n",
       "1      $350,000,000    $42,762,350    $149,762,350        2019  tt6565702   \n",
       "2      $330,600,000   $459,005,868  $1,403,013,963        2015  tt2395427   \n",
       "\n",
       "                     genres  \n",
       "0  Action,Adventure,Fantasy  \n",
       "1   Action,Adventure,Sci-Fi  \n",
       "2   Action,Adventure,Sci-Fi  "
      ]
     },
     "execution_count": 14,
     "metadata": {},
     "output_type": "execute_result"
    }
   ],
   "source": [
    "budget_genre_df = dp.make_budget_genre_table(budgets_df, titles_df)\n",
    "budget_genre_df.head(3)"
   ]
  },
  {
   "cell_type": "code",
   "execution_count": 15,
   "metadata": {},
   "outputs": [
    {
     "data": {
      "text/plain": [
       "(1547, 9)"
      ]
     },
     "execution_count": 15,
     "metadata": {},
     "output_type": "execute_result"
    }
   ],
   "source": [
    "budget_genre_df.shape"
   ]
  },
  {
   "cell_type": "markdown",
   "metadata": {},
   "source": [
    "We likely lost a good bit of data because movies had slightly different names in the two databases. As mentioned above the data is missing a few rows of genre information. It is a fairly small bit of data, likely from films that are either difficult to categorize or no one bothered to on IMDB. We will just drop them since there is no good way to guess at what genres they may be."
   ]
  },
  {
   "cell_type": "code",
   "execution_count": 16,
   "metadata": {},
   "outputs": [
    {
     "data": {
      "text/plain": [
       "(1541, 9)"
      ]
     },
     "execution_count": 16,
     "metadata": {},
     "output_type": "execute_result"
    }
   ],
   "source": [
    "budget_genre_df.dropna(inplace = True)\n",
    "budget_genre_df.shape"
   ]
  },
  {
   "cell_type": "markdown",
   "metadata": {},
   "source": [
    "Since microsoft is likely to spend a considerable amount on a film to make it worth their time, we will filter the data only contain movies with budgets over $10 million.\n",
    "Since film trends are fairly variable, we will also drop movies that didn't release in the past 20 years.\n",
    "We will also insert a column that calculates the worldwide profit i.e. worldwide gross minus production budget for each film, which will require turning the objects in the budget and gross columns into integers.\n",
    "This filtering leaves us with 1,111 films in our analysis."
   ]
  },
  {
   "cell_type": "code",
   "execution_count": 17,
   "metadata": {},
   "outputs": [
    {
     "data": {
      "text/plain": [
       "(1111, 10)"
      ]
     },
     "execution_count": 17,
     "metadata": {},
     "output_type": "execute_result"
    }
   ],
   "source": [
    "budget_genre_df = dp.filter_by_year_budget(budget_genre_df, 2001, 10000000)\n",
    "budget_genre_df.shape"
   ]
  },
  {
   "cell_type": "code",
   "execution_count": 18,
   "metadata": {},
   "outputs": [
    {
     "data": {
      "text/html": [
       "<div>\n",
       "<style scoped>\n",
       "    .dataframe tbody tr th:only-of-type {\n",
       "        vertical-align: middle;\n",
       "    }\n",
       "\n",
       "    .dataframe tbody tr th {\n",
       "        vertical-align: top;\n",
       "    }\n",
       "\n",
       "    .dataframe thead th {\n",
       "        text-align: right;\n",
       "    }\n",
       "</style>\n",
       "<table border=\"1\" class=\"dataframe\">\n",
       "  <thead>\n",
       "    <tr style=\"text-align: right;\">\n",
       "      <th></th>\n",
       "      <th>id</th>\n",
       "      <th>release_date</th>\n",
       "      <th>primary_title</th>\n",
       "      <th>production_budget</th>\n",
       "      <th>domestic_gross</th>\n",
       "      <th>worldwide_gross</th>\n",
       "      <th>start_year</th>\n",
       "      <th>tconst</th>\n",
       "      <th>genres</th>\n",
       "      <th>profit</th>\n",
       "    </tr>\n",
       "  </thead>\n",
       "  <tbody>\n",
       "    <tr>\n",
       "      <th>0</th>\n",
       "      <td>2</td>\n",
       "      <td>2011-05-20</td>\n",
       "      <td>Pirates of the Caribbean: On Stranger Tides</td>\n",
       "      <td>410600000</td>\n",
       "      <td>241063875</td>\n",
       "      <td>1045663875</td>\n",
       "      <td>2011</td>\n",
       "      <td>tt1298650</td>\n",
       "      <td>Action,Adventure,Fantasy</td>\n",
       "      <td>635063875</td>\n",
       "    </tr>\n",
       "    <tr>\n",
       "      <th>1</th>\n",
       "      <td>3</td>\n",
       "      <td>2019-06-07</td>\n",
       "      <td>Dark Phoenix</td>\n",
       "      <td>350000000</td>\n",
       "      <td>42762350</td>\n",
       "      <td>149762350</td>\n",
       "      <td>2019</td>\n",
       "      <td>tt6565702</td>\n",
       "      <td>Action,Adventure,Sci-Fi</td>\n",
       "      <td>-200237650</td>\n",
       "    </tr>\n",
       "    <tr>\n",
       "      <th>2</th>\n",
       "      <td>4</td>\n",
       "      <td>2015-05-01</td>\n",
       "      <td>Avengers: Age of Ultron</td>\n",
       "      <td>330600000</td>\n",
       "      <td>459005868</td>\n",
       "      <td>1403013963</td>\n",
       "      <td>2015</td>\n",
       "      <td>tt2395427</td>\n",
       "      <td>Action,Adventure,Sci-Fi</td>\n",
       "      <td>1072413963</td>\n",
       "    </tr>\n",
       "  </tbody>\n",
       "</table>\n",
       "</div>"
      ],
      "text/plain": [
       "   id release_date                                primary_title  \\\n",
       "0   2   2011-05-20  Pirates of the Caribbean: On Stranger Tides   \n",
       "1   3   2019-06-07                                 Dark Phoenix   \n",
       "2   4   2015-05-01                      Avengers: Age of Ultron   \n",
       "\n",
       "   production_budget  domestic_gross  worldwide_gross  start_year     tconst  \\\n",
       "0          410600000       241063875       1045663875        2011  tt1298650   \n",
       "1          350000000        42762350        149762350        2019  tt6565702   \n",
       "2          330600000       459005868       1403013963        2015  tt2395427   \n",
       "\n",
       "                     genres      profit  \n",
       "0  Action,Adventure,Fantasy   635063875  \n",
       "1   Action,Adventure,Sci-Fi  -200237650  \n",
       "2   Action,Adventure,Sci-Fi  1072413963  "
      ]
     },
     "execution_count": 18,
     "metadata": {},
     "output_type": "execute_result"
    }
   ],
   "source": [
    "budget_genre_df.head(3)"
   ]
  },
  {
   "cell_type": "markdown",
   "metadata": {},
   "source": [
    "### Cleaning the Director Data"
   ]
  },
  {
   "cell_type": "markdown",
   "metadata": {},
   "source": [
    "We are now in a position to analyze the relationship between both genre and release date with profit, but don't yet have the data on directors. To do so we will join this data base with the other two, group it by director and calculate the mean profit that each director has made. "
   ]
  },
  {
   "cell_type": "code",
   "execution_count": 19,
   "metadata": {},
   "outputs": [
    {
     "data": {
      "text/html": [
       "<div>\n",
       "<style scoped>\n",
       "    .dataframe tbody tr th:only-of-type {\n",
       "        vertical-align: middle;\n",
       "    }\n",
       "\n",
       "    .dataframe tbody tr th {\n",
       "        vertical-align: top;\n",
       "    }\n",
       "\n",
       "    .dataframe thead th {\n",
       "        text-align: right;\n",
       "    }\n",
       "</style>\n",
       "<table border=\"1\" class=\"dataframe\">\n",
       "  <thead>\n",
       "    <tr style=\"text-align: right;\">\n",
       "      <th></th>\n",
       "      <th>tconst</th>\n",
       "      <th>ordering</th>\n",
       "      <th>category</th>\n",
       "      <th>primary_name</th>\n",
       "      <th>primary_profession</th>\n",
       "    </tr>\n",
       "    <tr>\n",
       "      <th>nconst</th>\n",
       "      <th></th>\n",
       "      <th></th>\n",
       "      <th></th>\n",
       "      <th></th>\n",
       "      <th></th>\n",
       "    </tr>\n",
       "  </thead>\n",
       "  <tbody>\n",
       "    <tr>\n",
       "      <th>nm0000080</th>\n",
       "      <td>tt0069049</td>\n",
       "      <td>5</td>\n",
       "      <td>director</td>\n",
       "      <td>Orson Welles</td>\n",
       "      <td>actor,director,writer</td>\n",
       "    </tr>\n",
       "    <tr>\n",
       "      <th>nm0000095</th>\n",
       "      <td>tt1605783</td>\n",
       "      <td>5</td>\n",
       "      <td>director</td>\n",
       "      <td>Woody Allen</td>\n",
       "      <td>writer,director,actor</td>\n",
       "    </tr>\n",
       "    <tr>\n",
       "      <th>nm0000095</th>\n",
       "      <td>tt1182350</td>\n",
       "      <td>5</td>\n",
       "      <td>director</td>\n",
       "      <td>Woody Allen</td>\n",
       "      <td>writer,director,actor</td>\n",
       "    </tr>\n",
       "  </tbody>\n",
       "</table>\n",
       "</div>"
      ],
      "text/plain": [
       "              tconst  ordering  category  primary_name     primary_profession\n",
       "nconst                                                                       \n",
       "nm0000080  tt0069049         5  director  Orson Welles  actor,director,writer\n",
       "nm0000095  tt1605783         5  director   Woody Allen  writer,director,actor\n",
       "nm0000095  tt1182350         5  director   Woody Allen  writer,director,actor"
      ]
     },
     "execution_count": 19,
     "metadata": {},
     "output_type": "execute_result"
    }
   ],
   "source": [
    "name_profession_df = dp.make_profession_table(principles_df, names_df, 'director')\n",
    "name_profession_df.head(3)"
   ]
  },
  {
   "cell_type": "markdown",
   "metadata": {},
   "source": [
    "We will now join it with the budget and genre table."
   ]
  },
  {
   "cell_type": "code",
   "execution_count": 20,
   "metadata": {
    "scrolled": true
   },
   "outputs": [
    {
     "data": {
      "text/html": [
       "<div>\n",
       "<style scoped>\n",
       "    .dataframe tbody tr th:only-of-type {\n",
       "        vertical-align: middle;\n",
       "    }\n",
       "\n",
       "    .dataframe tbody tr th {\n",
       "        vertical-align: top;\n",
       "    }\n",
       "\n",
       "    .dataframe thead th {\n",
       "        text-align: right;\n",
       "    }\n",
       "</style>\n",
       "<table border=\"1\" class=\"dataframe\">\n",
       "  <thead>\n",
       "    <tr style=\"text-align: right;\">\n",
       "      <th></th>\n",
       "      <th>nconst</th>\n",
       "      <th>category</th>\n",
       "      <th>primary_name</th>\n",
       "      <th>release_date</th>\n",
       "      <th>primary_title</th>\n",
       "      <th>production_budget</th>\n",
       "      <th>domestic_gross</th>\n",
       "      <th>worldwide_gross</th>\n",
       "      <th>genres</th>\n",
       "      <th>profit</th>\n",
       "    </tr>\n",
       "    <tr>\n",
       "      <th>tconst</th>\n",
       "      <th></th>\n",
       "      <th></th>\n",
       "      <th></th>\n",
       "      <th></th>\n",
       "      <th></th>\n",
       "      <th></th>\n",
       "      <th></th>\n",
       "      <th></th>\n",
       "      <th></th>\n",
       "      <th></th>\n",
       "    </tr>\n",
       "  </thead>\n",
       "  <tbody>\n",
       "    <tr>\n",
       "      <th>tt0249516</th>\n",
       "      <td>nm0440415</td>\n",
       "      <td>director</td>\n",
       "      <td>Lawrence Kasanoff</td>\n",
       "      <td>2012-12-31</td>\n",
       "      <td>Foodfight!</td>\n",
       "      <td>45000000.0</td>\n",
       "      <td>0.0</td>\n",
       "      <td>7.370600e+04</td>\n",
       "      <td>Action,Animation,Comedy</td>\n",
       "      <td>-4.492629e+07</td>\n",
       "    </tr>\n",
       "    <tr>\n",
       "      <th>tt0365907</th>\n",
       "      <td>nm0291082</td>\n",
       "      <td>director</td>\n",
       "      <td>Scott Frank</td>\n",
       "      <td>2014-09-19</td>\n",
       "      <td>A Walk Among the Tombstones</td>\n",
       "      <td>28000000.0</td>\n",
       "      <td>26017685.0</td>\n",
       "      <td>6.210859e+07</td>\n",
       "      <td>Action,Crime,Drama</td>\n",
       "      <td>3.410859e+07</td>\n",
       "    </tr>\n",
       "    <tr>\n",
       "      <th>tt0369610</th>\n",
       "      <td>nm1119880</td>\n",
       "      <td>director</td>\n",
       "      <td>Colin Trevorrow</td>\n",
       "      <td>2015-06-12</td>\n",
       "      <td>Jurassic World</td>\n",
       "      <td>215000000.0</td>\n",
       "      <td>652270625.0</td>\n",
       "      <td>1.648855e+09</td>\n",
       "      <td>Action,Adventure,Sci-Fi</td>\n",
       "      <td>1.433855e+09</td>\n",
       "    </tr>\n",
       "  </tbody>\n",
       "</table>\n",
       "</div>"
      ],
      "text/plain": [
       "              nconst  category       primary_name release_date  \\\n",
       "tconst                                                           \n",
       "tt0249516  nm0440415  director  Lawrence Kasanoff   2012-12-31   \n",
       "tt0365907  nm0291082  director        Scott Frank   2014-09-19   \n",
       "tt0369610  nm1119880  director    Colin Trevorrow   2015-06-12   \n",
       "\n",
       "                         primary_title  production_budget  domestic_gross  \\\n",
       "tconst                                                                      \n",
       "tt0249516                   Foodfight!         45000000.0             0.0   \n",
       "tt0365907  A Walk Among the Tombstones         28000000.0      26017685.0   \n",
       "tt0369610               Jurassic World        215000000.0     652270625.0   \n",
       "\n",
       "           worldwide_gross                   genres        profit  \n",
       "tconst                                                             \n",
       "tt0249516     7.370600e+04  Action,Animation,Comedy -4.492629e+07  \n",
       "tt0365907     6.210859e+07       Action,Crime,Drama  3.410859e+07  \n",
       "tt0369610     1.648855e+09  Action,Adventure,Sci-Fi  1.433855e+09  "
      ]
     },
     "execution_count": 20,
     "metadata": {},
     "output_type": "execute_result"
    }
   ],
   "source": [
    "complete_df = dp.make_complete_table(budget_genre_df, name_profession_df)\n",
    "complete_df.head(3)"
   ]
  },
  {
   "cell_type": "markdown",
   "metadata": {},
   "source": [
    "This table is slightly longer than the budget table because some movies have multiple directors. For example, Movie 43 has 6 for different segments of the film."
   ]
  },
  {
   "cell_type": "code",
   "execution_count": 21,
   "metadata": {},
   "outputs": [
    {
     "data": {
      "text/plain": [
       "(1172, 10)"
      ]
     },
     "execution_count": 21,
     "metadata": {},
     "output_type": "execute_result"
    }
   ],
   "source": [
    "complete_df.shape"
   ]
  },
  {
   "cell_type": "code",
   "execution_count": 22,
   "metadata": {},
   "outputs": [
    {
     "data": {
      "text/plain": [
       "tt1333125    6\n",
       "tt3521164    4\n",
       "tt3469046    3\n",
       "tt1371111    3\n",
       "tt2948356    3\n",
       "Name: tconst, dtype: int64"
      ]
     },
     "execution_count": 22,
     "metadata": {},
     "output_type": "execute_result"
    }
   ],
   "source": [
    "complete_df.index.value_counts()[:5]"
   ]
  },
  {
   "cell_type": "code",
   "execution_count": 23,
   "metadata": {},
   "outputs": [
    {
     "data": {
      "text/html": [
       "<div>\n",
       "<style scoped>\n",
       "    .dataframe tbody tr th:only-of-type {\n",
       "        vertical-align: middle;\n",
       "    }\n",
       "\n",
       "    .dataframe tbody tr th {\n",
       "        vertical-align: top;\n",
       "    }\n",
       "\n",
       "    .dataframe thead th {\n",
       "        text-align: right;\n",
       "    }\n",
       "</style>\n",
       "<table border=\"1\" class=\"dataframe\">\n",
       "  <thead>\n",
       "    <tr style=\"text-align: right;\">\n",
       "      <th></th>\n",
       "      <th>nconst</th>\n",
       "      <th>category</th>\n",
       "      <th>primary_name</th>\n",
       "      <th>release_date</th>\n",
       "      <th>primary_title</th>\n",
       "      <th>production_budget</th>\n",
       "      <th>domestic_gross</th>\n",
       "      <th>worldwide_gross</th>\n",
       "      <th>genres</th>\n",
       "      <th>profit</th>\n",
       "    </tr>\n",
       "    <tr>\n",
       "      <th>tconst</th>\n",
       "      <th></th>\n",
       "      <th></th>\n",
       "      <th></th>\n",
       "      <th></th>\n",
       "      <th></th>\n",
       "      <th></th>\n",
       "      <th></th>\n",
       "      <th></th>\n",
       "      <th></th>\n",
       "      <th></th>\n",
       "    </tr>\n",
       "  </thead>\n",
       "  <tbody>\n",
       "    <tr>\n",
       "      <th>tt1333125</th>\n",
       "      <td>nm0001162</td>\n",
       "      <td>director</td>\n",
       "      <td>Griffin Dunne</td>\n",
       "      <td>2013-01-25</td>\n",
       "      <td>Movie 43</td>\n",
       "      <td>10000000.0</td>\n",
       "      <td>8840453.0</td>\n",
       "      <td>31164747.0</td>\n",
       "      <td>Comedy</td>\n",
       "      <td>21164747.0</td>\n",
       "    </tr>\n",
       "    <tr>\n",
       "      <th>tt1333125</th>\n",
       "      <td>nm0006969</td>\n",
       "      <td>director</td>\n",
       "      <td>Elizabeth Banks</td>\n",
       "      <td>2013-01-25</td>\n",
       "      <td>Movie 43</td>\n",
       "      <td>10000000.0</td>\n",
       "      <td>8840453.0</td>\n",
       "      <td>31164747.0</td>\n",
       "      <td>Comedy</td>\n",
       "      <td>21164747.0</td>\n",
       "    </tr>\n",
       "    <tr>\n",
       "      <th>tt1333125</th>\n",
       "      <td>nm0109359</td>\n",
       "      <td>director</td>\n",
       "      <td>Steven Brill</td>\n",
       "      <td>2013-01-25</td>\n",
       "      <td>Movie 43</td>\n",
       "      <td>10000000.0</td>\n",
       "      <td>8840453.0</td>\n",
       "      <td>31164747.0</td>\n",
       "      <td>Comedy</td>\n",
       "      <td>21164747.0</td>\n",
       "    </tr>\n",
       "    <tr>\n",
       "      <th>tt1333125</th>\n",
       "      <td>nm0139867</td>\n",
       "      <td>director</td>\n",
       "      <td>Steve Carr</td>\n",
       "      <td>2013-01-25</td>\n",
       "      <td>Movie 43</td>\n",
       "      <td>10000000.0</td>\n",
       "      <td>8840453.0</td>\n",
       "      <td>31164747.0</td>\n",
       "      <td>Comedy</td>\n",
       "      <td>21164747.0</td>\n",
       "    </tr>\n",
       "    <tr>\n",
       "      <th>tt1333125</th>\n",
       "      <td>nm0192090</td>\n",
       "      <td>director</td>\n",
       "      <td>Rusty Cundieff</td>\n",
       "      <td>2013-01-25</td>\n",
       "      <td>Movie 43</td>\n",
       "      <td>10000000.0</td>\n",
       "      <td>8840453.0</td>\n",
       "      <td>31164747.0</td>\n",
       "      <td>Comedy</td>\n",
       "      <td>21164747.0</td>\n",
       "    </tr>\n",
       "    <tr>\n",
       "      <th>tt1333125</th>\n",
       "      <td>nm2086105</td>\n",
       "      <td>director</td>\n",
       "      <td>James Duffy</td>\n",
       "      <td>2013-01-25</td>\n",
       "      <td>Movie 43</td>\n",
       "      <td>10000000.0</td>\n",
       "      <td>8840453.0</td>\n",
       "      <td>31164747.0</td>\n",
       "      <td>Comedy</td>\n",
       "      <td>21164747.0</td>\n",
       "    </tr>\n",
       "  </tbody>\n",
       "</table>\n",
       "</div>"
      ],
      "text/plain": [
       "              nconst  category     primary_name release_date primary_title  \\\n",
       "tconst                                                                       \n",
       "tt1333125  nm0001162  director    Griffin Dunne   2013-01-25      Movie 43   \n",
       "tt1333125  nm0006969  director  Elizabeth Banks   2013-01-25      Movie 43   \n",
       "tt1333125  nm0109359  director     Steven Brill   2013-01-25      Movie 43   \n",
       "tt1333125  nm0139867  director       Steve Carr   2013-01-25      Movie 43   \n",
       "tt1333125  nm0192090  director   Rusty Cundieff   2013-01-25      Movie 43   \n",
       "tt1333125  nm2086105  director      James Duffy   2013-01-25      Movie 43   \n",
       "\n",
       "           production_budget  domestic_gross  worldwide_gross  genres  \\\n",
       "tconst                                                                  \n",
       "tt1333125         10000000.0       8840453.0       31164747.0  Comedy   \n",
       "tt1333125         10000000.0       8840453.0       31164747.0  Comedy   \n",
       "tt1333125         10000000.0       8840453.0       31164747.0  Comedy   \n",
       "tt1333125         10000000.0       8840453.0       31164747.0  Comedy   \n",
       "tt1333125         10000000.0       8840453.0       31164747.0  Comedy   \n",
       "tt1333125         10000000.0       8840453.0       31164747.0  Comedy   \n",
       "\n",
       "               profit  \n",
       "tconst                 \n",
       "tt1333125  21164747.0  \n",
       "tt1333125  21164747.0  \n",
       "tt1333125  21164747.0  \n",
       "tt1333125  21164747.0  \n",
       "tt1333125  21164747.0  \n",
       "tt1333125  21164747.0  "
      ]
     },
     "execution_count": 23,
     "metadata": {},
     "output_type": "execute_result"
    }
   ],
   "source": [
    "complete_df[complete_df.index == 'tt1333125']"
   ]
  },
  {
   "cell_type": "markdown",
   "metadata": {},
   "source": [
    "We can also get rough idea of the directors with the most large budget films in the past 20 years."
   ]
  },
  {
   "cell_type": "code",
   "execution_count": 24,
   "metadata": {},
   "outputs": [
    {
     "data": {
      "text/plain": [
       "Steven Spielberg    7\n",
       "Ridley Scott        6\n",
       "Tim Story           6\n",
       "Clint Eastwood      6\n",
       "David Ayer          5\n",
       "Name: primary_name, dtype: int64"
      ]
     },
     "execution_count": 24,
     "metadata": {},
     "output_type": "execute_result"
    }
   ],
   "source": [
    "complete_df['primary_name'].value_counts()[:5]"
   ]
  },
  {
   "cell_type": "markdown",
   "metadata": {},
   "source": [
    "We now have a dataframe connecting the directors to the profit they made on their movies and by having joined it to the budget df and droping missing values, we have limited our list to large budget films they made in the past 20 years."
   ]
  },
  {
   "cell_type": "markdown",
   "metadata": {},
   "source": [
    "## Data Modeling\n",
    "***"
   ]
  },
  {
   "cell_type": "markdown",
   "metadata": {},
   "source": [
    "### Genre Analysis\n",
    "\n",
    "We will begin analyzing the genre data by constructing a table which give us the mean profit for each genre as well as the std deviation. This will give us a reasonable representation of the expected profit from each genre and a rough measure of the risk involved in making a movie of that sort. Some of these genres are likely fairly rare in the past 20 years. We will drop any genres with less than 20 movies.\n",
    "\n",
    "We will also divide the profit numbers by a million to make them easier to read."
   ]
  },
  {
   "cell_type": "code",
   "execution_count": 25,
   "metadata": {},
   "outputs": [
    {
     "data": {
      "text/html": [
       "<div>\n",
       "<style scoped>\n",
       "    .dataframe tbody tr th:only-of-type {\n",
       "        vertical-align: middle;\n",
       "    }\n",
       "\n",
       "    .dataframe tbody tr th {\n",
       "        vertical-align: top;\n",
       "    }\n",
       "\n",
       "    .dataframe thead th {\n",
       "        text-align: right;\n",
       "    }\n",
       "</style>\n",
       "<table border=\"1\" class=\"dataframe\">\n",
       "  <thead>\n",
       "    <tr style=\"text-align: right;\">\n",
       "      <th></th>\n",
       "      <th>Mean Profit</th>\n",
       "      <th>Std of Profit</th>\n",
       "    </tr>\n",
       "  </thead>\n",
       "  <tbody>\n",
       "    <tr>\n",
       "      <th>Sci-Fi</th>\n",
       "      <td>298.846666</td>\n",
       "      <td>358.501672</td>\n",
       "    </tr>\n",
       "    <tr>\n",
       "      <th>Animation</th>\n",
       "      <td>287.555493</td>\n",
       "      <td>282.446612</td>\n",
       "    </tr>\n",
       "    <tr>\n",
       "      <th>Adventure</th>\n",
       "      <td>259.595762</td>\n",
       "      <td>303.832014</td>\n",
       "    </tr>\n",
       "    <tr>\n",
       "      <th>Fantasy</th>\n",
       "      <td>188.353184</td>\n",
       "      <td>260.043287</td>\n",
       "    </tr>\n",
       "    <tr>\n",
       "      <th>Action</th>\n",
       "      <td>180.424955</td>\n",
       "      <td>272.253415</td>\n",
       "    </tr>\n",
       "  </tbody>\n",
       "</table>\n",
       "</div>"
      ],
      "text/plain": [
       "           Mean Profit  Std of Profit\n",
       "Sci-Fi      298.846666     358.501672\n",
       "Animation   287.555493     282.446612\n",
       "Adventure   259.595762     303.832014\n",
       "Fantasy     188.353184     260.043287\n",
       "Action      180.424955     272.253415"
      ]
     },
     "execution_count": 25,
     "metadata": {},
     "output_type": "execute_result"
    }
   ],
   "source": [
    "genre_list = dp.list_genres(budget_genre_df)\n",
    "genre_stats_df = dp.genre_stats(budget_genre_df, genre_list, 20)\n",
    "genre_stats_df.head()"
   ]
  },
  {
   "cell_type": "markdown",
   "metadata": {},
   "source": [
    "We will now construct a plot of the top ten movie genres sorted by mean profit."
   ]
  },
  {
   "cell_type": "code",
   "execution_count": 26,
   "metadata": {},
   "outputs": [],
   "source": [
    "from code import visualizations as vis"
   ]
  },
  {
   "cell_type": "code",
   "execution_count": 27,
   "metadata": {},
   "outputs": [
    {
     "data": {
      "image/png": "[encoded data removed]",
      "text/plain": [
       "<Figure size 1080x720 with 1 Axes>"
      ]
     },
     "metadata": {},
     "output_type": "display_data"
    }
   ],
   "source": [
    "vis.plot_top_ten(genre_stats_df, 'Mean Profit', 'Genre', 'genre_chart');"
   ]
  },
  {
   "cell_type": "markdown",
   "metadata": {},
   "source": [
    "Scifi has the highest mean profit of the genres with more than 20 movies in this data. Animation offers a good tradeoff between expect profit and risk, as it has the second best mean profit and is the only category where the std is less that the mean profit, meaning losses are fairly rare."
   ]
  },
  {
   "cell_type": "markdown",
   "metadata": {},
   "source": [
    "I would recommend the Sci-Fi genre. Although is is more risky, the risk goes both ways, it is more likely to lose money but also more likely to make a very large profit. The genre also synergizes well with Microsoft's other media and gaming projects. Sci-Fi movies are relatively easy to tie into video game like content, which also allows for cross promotion opportunities. \n",
    "\n",
    "(That said animation offers toy and merchadise opportunities and would also be a reasonable choice.)"
   ]
  },
  {
   "cell_type": "markdown",
   "metadata": {},
   "source": [
    "### Release Date Analysis"
   ]
  },
  {
   "cell_type": "markdown",
   "metadata": {},
   "source": [
    "To determine what release month is best we group the data by month, drop irrelevant columns, and find the mean and std of profit for each release month. Again dividing by a million to make the data more readable."
   ]
  },
  {
   "cell_type": "code",
   "execution_count": 28,
   "metadata": {},
   "outputs": [
    {
     "data": {
      "text/html": [
       "<div>\n",
       "<style scoped>\n",
       "    .dataframe tbody tr th:only-of-type {\n",
       "        vertical-align: middle;\n",
       "    }\n",
       "\n",
       "    .dataframe tbody tr th {\n",
       "        vertical-align: top;\n",
       "    }\n",
       "\n",
       "    .dataframe thead th {\n",
       "        text-align: right;\n",
       "    }\n",
       "</style>\n",
       "<table border=\"1\" class=\"dataframe\">\n",
       "  <thead>\n",
       "    <tr style=\"text-align: right;\">\n",
       "      <th></th>\n",
       "      <th>Std of Profit</th>\n",
       "      <th>Mean Profit</th>\n",
       "    </tr>\n",
       "    <tr>\n",
       "      <th>release_month</th>\n",
       "      <th></th>\n",
       "      <th></th>\n",
       "    </tr>\n",
       "  </thead>\n",
       "  <tbody>\n",
       "    <tr>\n",
       "      <th>1</th>\n",
       "      <td>75.889964</td>\n",
       "      <td>52.670377</td>\n",
       "    </tr>\n",
       "    <tr>\n",
       "      <th>2</th>\n",
       "      <td>179.215113</td>\n",
       "      <td>104.127889</td>\n",
       "    </tr>\n",
       "    <tr>\n",
       "      <th>3</th>\n",
       "      <td>228.120433</td>\n",
       "      <td>142.189183</td>\n",
       "    </tr>\n",
       "    <tr>\n",
       "      <th>4</th>\n",
       "      <td>288.066813</td>\n",
       "      <td>129.378726</td>\n",
       "    </tr>\n",
       "    <tr>\n",
       "      <th>5</th>\n",
       "      <td>279.283253</td>\n",
       "      <td>216.777256</td>\n",
       "    </tr>\n",
       "    <tr>\n",
       "      <th>6</th>\n",
       "      <td>312.394357</td>\n",
       "      <td>213.378872</td>\n",
       "    </tr>\n",
       "    <tr>\n",
       "      <th>7</th>\n",
       "      <td>235.632621</td>\n",
       "      <td>183.505442</td>\n",
       "    </tr>\n",
       "    <tr>\n",
       "      <th>8</th>\n",
       "      <td>114.108207</td>\n",
       "      <td>72.385334</td>\n",
       "    </tr>\n",
       "    <tr>\n",
       "      <th>9</th>\n",
       "      <td>102.581232</td>\n",
       "      <td>55.760578</td>\n",
       "    </tr>\n",
       "    <tr>\n",
       "      <th>10</th>\n",
       "      <td>128.779645</td>\n",
       "      <td>68.291790</td>\n",
       "    </tr>\n",
       "    <tr>\n",
       "      <th>11</th>\n",
       "      <td>223.063794</td>\n",
       "      <td>147.942393</td>\n",
       "    </tr>\n",
       "    <tr>\n",
       "      <th>12</th>\n",
       "      <td>201.420875</td>\n",
       "      <td>124.105784</td>\n",
       "    </tr>\n",
       "  </tbody>\n",
       "</table>\n",
       "</div>"
      ],
      "text/plain": [
       "               Std of Profit  Mean Profit\n",
       "release_month                            \n",
       "1                  75.889964    52.670377\n",
       "2                 179.215113   104.127889\n",
       "3                 228.120433   142.189183\n",
       "4                 288.066813   129.378726\n",
       "5                 279.283253   216.777256\n",
       "6                 312.394357   213.378872\n",
       "7                 235.632621   183.505442\n",
       "8                 114.108207    72.385334\n",
       "9                 102.581232    55.760578\n",
       "10                128.779645    68.291790\n",
       "11                223.063794   147.942393\n",
       "12                201.420875   124.105784"
      ]
     },
     "execution_count": 28,
     "metadata": {},
     "output_type": "execute_result"
    }
   ],
   "source": [
    "release_df = dp.by_month_stats(budget_genre_df)\n",
    "release_df"
   ]
  },
  {
   "cell_type": "markdown",
   "metadata": {},
   "source": [
    "Here is a chart of the mean and std of the profit by release month for *all* large budget movies in the past 20 years."
   ]
  },
  {
   "cell_type": "code",
   "execution_count": 29,
   "metadata": {},
   "outputs": [
    {
     "data": {
      "image/png": "[encoded data removed]",
      "text/plain": [
       "<Figure size 1080x720 with 1 Axes>"
      ]
     },
     "metadata": {},
     "output_type": "display_data"
    }
   ],
   "source": [
    "vis.month_plot(release_df, 'release_chart');"
   ]
  },
  {
   "cell_type": "markdown",
   "metadata": {},
   "source": [
    "And here is the same chart, but only including Sci-Fi movie releases."
   ]
  },
  {
   "cell_type": "code",
   "execution_count": 30,
   "metadata": {
    "scrolled": false
   },
   "outputs": [
    {
     "data": {
      "image/png": "[encoded data removed]",
      "text/plain": [
       "<Figure size 1080x720 with 1 Axes>"
      ]
     },
     "metadata": {},
     "output_type": "display_data"
    }
   ],
   "source": [
    "scifi_release_df = dp.by_month_stats(dp.genre_filter(budget_genre_df, 'Sci-Fi'))\n",
    "vis.month_plot(scifi_release_df, 'release_chart');"
   ]
  },
  {
   "cell_type": "markdown",
   "metadata": {},
   "source": [
    "It appears that May has the highest mean profit both for all movies and Sci-Fi movies in particular. Any late spring to early summer release appears reasonable from this data. Shotting for a May release with a buffer for a potential June release in case of delays may be a good strategy."
   ]
  },
  {
   "cell_type": "markdown",
   "metadata": {},
   "source": [
    "### Director Analysis"
   ]
  },
  {
   "cell_type": "markdown",
   "metadata": {},
   "source": [
    "To determine what director would be reasonable we will filter the database to only include Sci-Fi movies and then group the database by director and sort them by the mean profit from their films to find the top 10 candidates. We will also linclude total profit, since some directors may have a high mean simply from having only directed one very successful film."
   ]
  },
  {
   "cell_type": "code",
   "execution_count": 31,
   "metadata": {},
   "outputs": [
    {
     "data": {
      "text/html": [
       "<div>\n",
       "<style scoped>\n",
       "    .dataframe tbody tr th:only-of-type {\n",
       "        vertical-align: middle;\n",
       "    }\n",
       "\n",
       "    .dataframe tbody tr th {\n",
       "        vertical-align: top;\n",
       "    }\n",
       "\n",
       "    .dataframe thead th {\n",
       "        text-align: right;\n",
       "    }\n",
       "</style>\n",
       "<table border=\"1\" class=\"dataframe\">\n",
       "  <thead>\n",
       "    <tr style=\"text-align: right;\">\n",
       "      <th></th>\n",
       "      <th>Mean Profit</th>\n",
       "      <th>Total Profit</th>\n",
       "    </tr>\n",
       "    <tr>\n",
       "      <th>primary_name</th>\n",
       "      <th></th>\n",
       "      <th></th>\n",
       "    </tr>\n",
       "  </thead>\n",
       "  <tbody>\n",
       "    <tr>\n",
       "      <th>Colin Trevorrow</th>\n",
       "      <td>1433.854864</td>\n",
       "      <td>1433.854864</td>\n",
       "    </tr>\n",
       "    <tr>\n",
       "      <th>Joss Whedon</th>\n",
       "      <td>1182.674930</td>\n",
       "      <td>2365.349860</td>\n",
       "    </tr>\n",
       "    <tr>\n",
       "      <th>Ryan Coogler</th>\n",
       "      <td>1148.258224</td>\n",
       "      <td>1148.258224</td>\n",
       "    </tr>\n",
       "    <tr>\n",
       "      <th>J.A. Bayona</th>\n",
       "      <td>1135.772799</td>\n",
       "      <td>1135.772799</td>\n",
       "    </tr>\n",
       "    <tr>\n",
       "      <th>Anthony Russo</th>\n",
       "      <td>1060.868501</td>\n",
       "      <td>3182.605502</td>\n",
       "    </tr>\n",
       "    <tr>\n",
       "      <th>Joe Russo</th>\n",
       "      <td>1060.868501</td>\n",
       "      <td>3182.605502</td>\n",
       "    </tr>\n",
       "    <tr>\n",
       "      <th>Anna Boden</th>\n",
       "      <td>948.061550</td>\n",
       "      <td>948.061550</td>\n",
       "    </tr>\n",
       "    <tr>\n",
       "      <th>Ryan Fleck</th>\n",
       "      <td>948.061550</td>\n",
       "      <td>948.061550</td>\n",
       "    </tr>\n",
       "    <tr>\n",
       "      <th>Ruben Fleischer</th>\n",
       "      <td>737.628605</td>\n",
       "      <td>737.628605</td>\n",
       "    </tr>\n",
       "    <tr>\n",
       "      <th>Michael Bay</th>\n",
       "      <td>736.240986</td>\n",
       "      <td>2208.722959</td>\n",
       "    </tr>\n",
       "  </tbody>\n",
       "</table>\n",
       "</div>"
      ],
      "text/plain": [
       "                 Mean Profit  Total Profit\n",
       "primary_name                              \n",
       "Colin Trevorrow  1433.854864   1433.854864\n",
       "Joss Whedon      1182.674930   2365.349860\n",
       "Ryan Coogler     1148.258224   1148.258224\n",
       "J.A. Bayona      1135.772799   1135.772799\n",
       "Anthony Russo    1060.868501   3182.605502\n",
       "Joe Russo        1060.868501   3182.605502\n",
       "Anna Boden        948.061550    948.061550\n",
       "Ryan Fleck        948.061550    948.061550\n",
       "Ruben Fleischer   737.628605    737.628605\n",
       "Michael Bay       736.240986   2208.722959"
      ]
     },
     "execution_count": 31,
     "metadata": {},
     "output_type": "execute_result"
    }
   ],
   "source": [
    "scifi_direct_df = dp.profession_stats(complete_df, 'Sci-Fi')\n",
    "scifi_direct_df.head(10)"
   ]
  },
  {
   "cell_type": "markdown",
   "metadata": {},
   "source": [
    "Here is a chart of the top ten Sci-Fi directors by mean profit in the past 20 years, including their total profits earned in their Sci-Fi films. For example, Colin Trevorrow has made more than one film, but only one big budget Sci-Fi film, Jurassic World."
   ]
  },
  {
   "cell_type": "code",
   "execution_count": 32,
   "metadata": {},
   "outputs": [
    {
     "data": {
      "image/png": "[encoded data removed]",
      "text/plain": [
       "<Figure size 1080x720 with 1 Axes>"
      ]
     },
     "metadata": {},
     "output_type": "display_data"
    }
   ],
   "source": [
    "vis.plot_top_ten(scifi_direct_df, 'Mean Profit', 'Sci-Fi Directors', 'director_chart');"
   ]
  },
  {
   "cell_type": "markdown",
   "metadata": {},
   "source": [
    "Based on this analysis Josh Whedon offers a good balance of high average return with more of a track record of success. He also has writing talent which is a bonus since your new studio will also need writers for the project. That said, Josh has had a number or recent scandals that might affect his effectiveness as a directon. Colin Trevorrow would be a reasonable choice if the recent scandals Josh has been involved in are too much of a risk to the brand, or hiring him is morally unacceptable. "
   ]
  },
  {
   "cell_type": "markdown",
   "metadata": {},
   "source": [
    "## Evaluation\n",
    "***"
   ]
  },
  {
   "cell_type": "markdown",
   "metadata": {},
   "source": [
    "Any analysis done with only this data will be inherently limited. \n",
    "\n",
    "To begin with, the data only contains information about production budgets and not other expenses. For instance, if Sci-Fi films are adversized much more than other film, then that would cut into the profit that this analysis suggest they have.\n",
    "\n",
    "There are also problems with inferring causal claims from this data. For example, if Hollywood expects that summer is more profitable, they will likely release their big tent poll films during that time, which will then also skew the data into suggeesting the summer is profitable. With just this data, it is difficult to tell.\n",
    "\n",
    "There are also numerous problems with making inferences from small samples, for example, many of the most profitable directors only made a couple of films, but it is not clear this will be very predictive of their success in new or different projects."
   ]
  },
  {
   "cell_type": "markdown",
   "metadata": {},
   "source": [
    "## Conclusions\n",
    "***\n",
    "\n",
    "My stated recommendations:\n",
    "\n",
    "* Release a Sci-Fi film.\n",
    "* Hire Joss Whedon to direct it. \n",
    "* Aim to release the movie in May with June as a backup in case of delays.\n",
    "\n",
    "### Caveats and Future Work\n",
    "\n",
    "This leaves many other issues unresolved. What script should the movie use and should it be connected to other Microsoft media projects, which has potential rewards in increased sales in other areas such as video games, but also risks in damaging the brand if the movie fails. There is also the open question of other merchandise tie-ins.\n",
    "\n",
    "I suggest that Microsoft:\n",
    "* Do market research into what story types and themes are popular.\n",
    "* Investigate whether it has existing media brands that would fit well with a Sci-Fi film.\n",
    "* Investigate the Sci-Fi novel genre and see if any highly selling books would make for a good adaptation."
   ]
  }
 ],
 "metadata": {
  "kernelspec": {
   "display_name": "Python 3",
   "language": "python",
   "name": "python3"
  },
  "language_info": {
   "codemirror_mode": {
    "name": "ipython",
    "version": 3
   },
   "file_extension": ".py",
   "mimetype": "text/x-python",
   "name": "python",
   "nbconvert_exporter": "python",
   "pygments_lexer": "ipython3",
   "version": "3.8.5"
  }
 },
 "nbformat": 4,
 "nbformat_minor": 4
}
