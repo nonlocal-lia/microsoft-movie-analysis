{
 "cells": [
  {
   "cell_type": "markdown",
   "metadata": {},
   "source": [
    "![example](images/director_shot.jpeg)"
   ]
  },
  {
   "cell_type": "markdown",
   "metadata": {},
   "source": [
    "# Microsoft Movie Recommendations\n",
    "\n",
    "**Author:** Lia Elwonger\n",
    "***"
   ]
  },
  {
   "cell_type": "markdown",
   "metadata": {},
   "source": [
    "## Overview\n",
    "\n",
    "Microsoft is perhaps best know as a software company, but has many media holding, perhaps most notably in video games via their Xbox consoles and games. How might this company leverage its capital and brand to enter into the film industry?\n",
    "\n",
    "A one-paragraph overview of the project, including the business problem, data, methods, results and recommendations."
   ]
  },
  {
   "cell_type": "markdown",
   "metadata": {},
   "source": [
    "## Business Problem\n",
    "\n",
    "Summary of the business problem you are trying to solve, and the data questions that you plan to answer to solve them.\n",
    "\n",
    "***\n",
    "Questions to consider:\n",
    "* What are the business's pain points related to this project?\n",
    "* How did you pick the data analysis question(s) that you did?\n",
    "* Why are these questions important from a business perspective?\n",
    "***"
   ]
  },
  {
   "cell_type": "markdown",
   "metadata": {},
   "source": [
    "## Data Understanding\n",
    "\n",
    "Describe the data being used for this project.\n",
    "***\n",
    "Questions to consider:\n",
    "* Where did the data come from, and how do they relate to the data analysis questions?\n",
    "* What do the data represent? Who is in the sample and what variables are included?\n",
    "* What is the target variable?\n",
    "* What are the properties of the variables you intend to use?\n",
    "***"
   ]
  },
  {
   "cell_type": "code",
   "execution_count": 25,
   "metadata": {},
   "outputs": [],
   "source": [
    "# Import standard packages\n",
    "import pandas as pd\n",
    "import numpy as np\n",
    "import matplotlib.pyplot as plt\n",
    "import seaborn as sns\n",
    "from dateutil import parser\n",
    "from datetime import date\n",
    "%matplotlib inline\n",
    "plt.rcParams[\"figure.figsize\"] = (14,7)\n",
    "plt.rcParams.update({'font.size': 16})"
   ]
  },
  {
   "cell_type": "markdown",
   "metadata": {},
   "source": [
    "We will be using data from IMDB and The Numbers in our analysis.\n",
    "Our target variable for all three recommendations will be total profit.\n",
    "We will look to see if there is any association between the target and three variables:\n",
    "1. Film Genre\n",
    "2. Time of Release\n",
    "3. Director"
   ]
  },
  {
   "cell_type": "markdown",
   "metadata": {},
   "source": [
    "The data on budgets, revenue and release date will come from the website \"The Numbers\" and looks like this:"
   ]
  },
  {
   "cell_type": "code",
   "execution_count": 26,
   "metadata": {},
   "outputs": [
    {
     "data": {
      "text/html": [
       "<div>\n",
       "<style scoped>\n",
       "    .dataframe tbody tr th:only-of-type {\n",
       "        vertical-align: middle;\n",
       "    }\n",
       "\n",
       "    .dataframe tbody tr th {\n",
       "        vertical-align: top;\n",
       "    }\n",
       "\n",
       "    .dataframe thead th {\n",
       "        text-align: right;\n",
       "    }\n",
       "</style>\n",
       "<table border=\"1\" class=\"dataframe\">\n",
       "  <thead>\n",
       "    <tr style=\"text-align: right;\">\n",
       "      <th></th>\n",
       "      <th>id</th>\n",
       "      <th>release_date</th>\n",
       "      <th>movie</th>\n",
       "      <th>production_budget</th>\n",
       "      <th>domestic_gross</th>\n",
       "      <th>worldwide_gross</th>\n",
       "    </tr>\n",
       "  </thead>\n",
       "  <tbody>\n",
       "    <tr>\n",
       "      <th>0</th>\n",
       "      <td>1</td>\n",
       "      <td>Dec 18, 2009</td>\n",
       "      <td>Avatar</td>\n",
       "      <td>$425,000,000</td>\n",
       "      <td>$760,507,625</td>\n",
       "      <td>$2,776,345,279</td>\n",
       "    </tr>\n",
       "    <tr>\n",
       "      <th>1</th>\n",
       "      <td>2</td>\n",
       "      <td>May 20, 2011</td>\n",
       "      <td>Pirates of the Caribbean: On Stranger Tides</td>\n",
       "      <td>$410,600,000</td>\n",
       "      <td>$241,063,875</td>\n",
       "      <td>$1,045,663,875</td>\n",
       "    </tr>\n",
       "    <tr>\n",
       "      <th>2</th>\n",
       "      <td>3</td>\n",
       "      <td>Jun 7, 2019</td>\n",
       "      <td>Dark Phoenix</td>\n",
       "      <td>$350,000,000</td>\n",
       "      <td>$42,762,350</td>\n",
       "      <td>$149,762,350</td>\n",
       "    </tr>\n",
       "  </tbody>\n",
       "</table>\n",
       "</div>"
      ],
      "text/plain": [
       "   id  release_date                                        movie  \\\n",
       "0   1  Dec 18, 2009                                       Avatar   \n",
       "1   2  May 20, 2011  Pirates of the Caribbean: On Stranger Tides   \n",
       "2   3   Jun 7, 2019                                 Dark Phoenix   \n",
       "\n",
       "  production_budget domestic_gross worldwide_gross  \n",
       "0      $425,000,000   $760,507,625  $2,776,345,279  \n",
       "1      $410,600,000   $241,063,875  $1,045,663,875  \n",
       "2      $350,000,000    $42,762,350    $149,762,350  "
      ]
     },
     "execution_count": 26,
     "metadata": {},
     "output_type": "execute_result"
    }
   ],
   "source": [
    "budgets_df = pd.read_csv('data/zippedData/tn.movie_budgets.csv.gz')\n",
    "budgets_df.head(3)"
   ]
  },
  {
   "cell_type": "markdown",
   "metadata": {},
   "source": [
    "The data on genres will come from IMDB."
   ]
  },
  {
   "cell_type": "code",
   "execution_count": 27,
   "metadata": {},
   "outputs": [
    {
     "data": {
      "text/html": [
       "<div>\n",
       "<style scoped>\n",
       "    .dataframe tbody tr th:only-of-type {\n",
       "        vertical-align: middle;\n",
       "    }\n",
       "\n",
       "    .dataframe tbody tr th {\n",
       "        vertical-align: top;\n",
       "    }\n",
       "\n",
       "    .dataframe thead th {\n",
       "        text-align: right;\n",
       "    }\n",
       "</style>\n",
       "<table border=\"1\" class=\"dataframe\">\n",
       "  <thead>\n",
       "    <tr style=\"text-align: right;\">\n",
       "      <th></th>\n",
       "      <th>tconst</th>\n",
       "      <th>primary_title</th>\n",
       "      <th>original_title</th>\n",
       "      <th>start_year</th>\n",
       "      <th>runtime_minutes</th>\n",
       "      <th>genres</th>\n",
       "    </tr>\n",
       "  </thead>\n",
       "  <tbody>\n",
       "    <tr>\n",
       "      <th>0</th>\n",
       "      <td>tt0063540</td>\n",
       "      <td>Sunghursh</td>\n",
       "      <td>Sunghursh</td>\n",
       "      <td>2013</td>\n",
       "      <td>175.0</td>\n",
       "      <td>Action,Crime,Drama</td>\n",
       "    </tr>\n",
       "    <tr>\n",
       "      <th>1</th>\n",
       "      <td>tt0066787</td>\n",
       "      <td>One Day Before the Rainy Season</td>\n",
       "      <td>Ashad Ka Ek Din</td>\n",
       "      <td>2019</td>\n",
       "      <td>114.0</td>\n",
       "      <td>Biography,Drama</td>\n",
       "    </tr>\n",
       "    <tr>\n",
       "      <th>2</th>\n",
       "      <td>tt0069049</td>\n",
       "      <td>The Other Side of the Wind</td>\n",
       "      <td>The Other Side of the Wind</td>\n",
       "      <td>2018</td>\n",
       "      <td>122.0</td>\n",
       "      <td>Drama</td>\n",
       "    </tr>\n",
       "  </tbody>\n",
       "</table>\n",
       "</div>"
      ],
      "text/plain": [
       "      tconst                    primary_title              original_title  \\\n",
       "0  tt0063540                        Sunghursh                   Sunghursh   \n",
       "1  tt0066787  One Day Before the Rainy Season             Ashad Ka Ek Din   \n",
       "2  tt0069049       The Other Side of the Wind  The Other Side of the Wind   \n",
       "\n",
       "   start_year  runtime_minutes              genres  \n",
       "0        2013            175.0  Action,Crime,Drama  \n",
       "1        2019            114.0     Biography,Drama  \n",
       "2        2018            122.0               Drama  "
      ]
     },
     "execution_count": 27,
     "metadata": {},
     "output_type": "execute_result"
    }
   ],
   "source": [
    "titles_df = pd.read_csv('data/zippedData/imdb.title.basics.csv.gz')\n",
    "titles_df.head(3)"
   ]
  },
  {
   "cell_type": "markdown",
   "metadata": {},
   "source": [
    "Data for the directors names and films they worked on will come from IMDB as well and is spread over two files."
   ]
  },
  {
   "cell_type": "code",
   "execution_count": 28,
   "metadata": {},
   "outputs": [
    {
     "data": {
      "text/html": [
       "<div>\n",
       "<style scoped>\n",
       "    .dataframe tbody tr th:only-of-type {\n",
       "        vertical-align: middle;\n",
       "    }\n",
       "\n",
       "    .dataframe tbody tr th {\n",
       "        vertical-align: top;\n",
       "    }\n",
       "\n",
       "    .dataframe thead th {\n",
       "        text-align: right;\n",
       "    }\n",
       "</style>\n",
       "<table border=\"1\" class=\"dataframe\">\n",
       "  <thead>\n",
       "    <tr style=\"text-align: right;\">\n",
       "      <th></th>\n",
       "      <th>tconst</th>\n",
       "      <th>ordering</th>\n",
       "      <th>nconst</th>\n",
       "      <th>category</th>\n",
       "      <th>job</th>\n",
       "      <th>characters</th>\n",
       "    </tr>\n",
       "  </thead>\n",
       "  <tbody>\n",
       "    <tr>\n",
       "      <th>0</th>\n",
       "      <td>tt0111414</td>\n",
       "      <td>1</td>\n",
       "      <td>nm0246005</td>\n",
       "      <td>actor</td>\n",
       "      <td>NaN</td>\n",
       "      <td>[\"The Man\"]</td>\n",
       "    </tr>\n",
       "    <tr>\n",
       "      <th>1</th>\n",
       "      <td>tt0111414</td>\n",
       "      <td>2</td>\n",
       "      <td>nm0398271</td>\n",
       "      <td>director</td>\n",
       "      <td>NaN</td>\n",
       "      <td>NaN</td>\n",
       "    </tr>\n",
       "    <tr>\n",
       "      <th>2</th>\n",
       "      <td>tt0111414</td>\n",
       "      <td>3</td>\n",
       "      <td>nm3739909</td>\n",
       "      <td>producer</td>\n",
       "      <td>producer</td>\n",
       "      <td>NaN</td>\n",
       "    </tr>\n",
       "  </tbody>\n",
       "</table>\n",
       "</div>"
      ],
      "text/plain": [
       "      tconst  ordering     nconst  category       job   characters\n",
       "0  tt0111414         1  nm0246005     actor       NaN  [\"The Man\"]\n",
       "1  tt0111414         2  nm0398271  director       NaN          NaN\n",
       "2  tt0111414         3  nm3739909  producer  producer          NaN"
      ]
     },
     "execution_count": 28,
     "metadata": {},
     "output_type": "execute_result"
    }
   ],
   "source": [
    "principles_df = pd.read_csv('data/zippedData/imdb.title.principals.csv.gz')\n",
    "principles_df.head(3)"
   ]
  },
  {
   "cell_type": "code",
   "execution_count": 29,
   "metadata": {
    "scrolled": true
   },
   "outputs": [
    {
     "data": {
      "text/html": [
       "<div>\n",
       "<style scoped>\n",
       "    .dataframe tbody tr th:only-of-type {\n",
       "        vertical-align: middle;\n",
       "    }\n",
       "\n",
       "    .dataframe tbody tr th {\n",
       "        vertical-align: top;\n",
       "    }\n",
       "\n",
       "    .dataframe thead th {\n",
       "        text-align: right;\n",
       "    }\n",
       "</style>\n",
       "<table border=\"1\" class=\"dataframe\">\n",
       "  <thead>\n",
       "    <tr style=\"text-align: right;\">\n",
       "      <th></th>\n",
       "      <th>nconst</th>\n",
       "      <th>primary_name</th>\n",
       "      <th>birth_year</th>\n",
       "      <th>death_year</th>\n",
       "      <th>primary_profession</th>\n",
       "      <th>known_for_titles</th>\n",
       "    </tr>\n",
       "  </thead>\n",
       "  <tbody>\n",
       "    <tr>\n",
       "      <th>0</th>\n",
       "      <td>nm0061671</td>\n",
       "      <td>Mary Ellen Bauder</td>\n",
       "      <td>NaN</td>\n",
       "      <td>NaN</td>\n",
       "      <td>miscellaneous,production_manager,producer</td>\n",
       "      <td>tt0837562,tt2398241,tt0844471,tt0118553</td>\n",
       "    </tr>\n",
       "    <tr>\n",
       "      <th>1</th>\n",
       "      <td>nm0061865</td>\n",
       "      <td>Joseph Bauer</td>\n",
       "      <td>NaN</td>\n",
       "      <td>NaN</td>\n",
       "      <td>composer,music_department,sound_department</td>\n",
       "      <td>tt0896534,tt6791238,tt0287072,tt1682940</td>\n",
       "    </tr>\n",
       "    <tr>\n",
       "      <th>2</th>\n",
       "      <td>nm0062070</td>\n",
       "      <td>Bruce Baum</td>\n",
       "      <td>NaN</td>\n",
       "      <td>NaN</td>\n",
       "      <td>miscellaneous,actor,writer</td>\n",
       "      <td>tt1470654,tt0363631,tt0104030,tt0102898</td>\n",
       "    </tr>\n",
       "  </tbody>\n",
       "</table>\n",
       "</div>"
      ],
      "text/plain": [
       "      nconst       primary_name  birth_year  death_year  \\\n",
       "0  nm0061671  Mary Ellen Bauder         NaN         NaN   \n",
       "1  nm0061865       Joseph Bauer         NaN         NaN   \n",
       "2  nm0062070         Bruce Baum         NaN         NaN   \n",
       "\n",
       "                           primary_profession  \\\n",
       "0   miscellaneous,production_manager,producer   \n",
       "1  composer,music_department,sound_department   \n",
       "2                  miscellaneous,actor,writer   \n",
       "\n",
       "                          known_for_titles  \n",
       "0  tt0837562,tt2398241,tt0844471,tt0118553  \n",
       "1  tt0896534,tt6791238,tt0287072,tt1682940  \n",
       "2  tt1470654,tt0363631,tt0104030,tt0102898  "
      ]
     },
     "execution_count": 29,
     "metadata": {},
     "output_type": "execute_result"
    }
   ],
   "source": [
    "names_df = pd.read_csv(\"data/zippedData/imdb.name.basics.csv.gz\") \n",
    "names_df.head(3)"
   ]
  },
  {
   "cell_type": "markdown",
   "metadata": {},
   "source": [
    "## Data Preparation\n",
    "\n",
    "Describe and justify the process for preparing the data for analysis.\n",
    "\n",
    "***\n",
    "Questions to consider:\n",
    "* Were there variables you dropped or created?\n",
    "* How did you address missing values or outliers?\n",
    "* Why are these choices appropriate given the data and the business problem?\n",
    "***"
   ]
  },
  {
   "cell_type": "markdown",
   "metadata": {},
   "source": [
    "We will begin by joining the dataframes containing the genre information and the budget information and droping some columns that are irrelevant to our analysis."
   ]
  },
  {
   "cell_type": "code",
   "execution_count": 30,
   "metadata": {},
   "outputs": [
    {
     "name": "stdout",
     "output_type": "stream",
     "text": [
      "<class 'pandas.core.frame.DataFrame'>\n",
      "Index: 3815 entries, #Horror to xXx: Return of Xander Cage\n",
      "Data columns (total 8 columns):\n",
      " #   Column             Non-Null Count  Dtype \n",
      "---  ------             --------------  ----- \n",
      " 0   id                 3815 non-null   int64 \n",
      " 1   release_date       3815 non-null   object\n",
      " 2   production_budget  3815 non-null   object\n",
      " 3   domestic_gross     3815 non-null   object\n",
      " 4   worldwide_gross    3815 non-null   object\n",
      " 5   tconst             3815 non-null   object\n",
      " 6   start_year         3815 non-null   int64 \n",
      " 7   genres             3743 non-null   object\n",
      "dtypes: int64(2), object(6)\n",
      "memory usage: 268.2+ KB\n"
     ]
    }
   ],
   "source": [
    "# Here you run your code to clean the data\n",
    "budgets_df.set_index('movie', inplace=True)\n",
    "titles_df.set_index('primary_title', inplace=True)\n",
    "budget_genre_df = budgets_df.join(titles_df, how='inner')\n",
    "budget_genre_df.drop(columns = ['original_title', 'runtime_minutes'], inplace=True)\n",
    "budget_genre_df.info()"
   ]
  },
  {
   "cell_type": "markdown",
   "metadata": {},
   "source": [
    "The data is missing a few rows of genre information. It is a fairly small bit of data, likely form films that are either difficult to categorize or no one bothered to on IMDB. We will just drop them."
   ]
  },
  {
   "cell_type": "code",
   "execution_count": 31,
   "metadata": {},
   "outputs": [
    {
     "name": "stdout",
     "output_type": "stream",
     "text": [
      "<class 'pandas.core.frame.DataFrame'>\n",
      "Index: 3743 entries, #Horror to xXx: Return of Xander Cage\n",
      "Data columns (total 8 columns):\n",
      " #   Column             Non-Null Count  Dtype \n",
      "---  ------             --------------  ----- \n",
      " 0   id                 3743 non-null   int64 \n",
      " 1   release_date       3743 non-null   object\n",
      " 2   production_budget  3743 non-null   object\n",
      " 3   domestic_gross     3743 non-null   object\n",
      " 4   worldwide_gross    3743 non-null   object\n",
      " 5   tconst             3743 non-null   object\n",
      " 6   start_year         3743 non-null   int64 \n",
      " 7   genres             3743 non-null   object\n",
      "dtypes: int64(2), object(6)\n",
      "memory usage: 263.2+ KB\n"
     ]
    }
   ],
   "source": [
    "budget_genre_df.dropna(inplace = True)\n",
    "budget_genre_df.info()"
   ]
  },
  {
   "cell_type": "markdown",
   "metadata": {},
   "source": [
    "Since microsoft is likely to spend a conisderable amount on a film to make it worth their time, we will filter the data only contain movies with budgets over $10 million.\n",
    "Since film trends are fairly variable, we will also drop movies that didn't release in the past 20 years.\n",
    "We will also insert a column that calculates the global profit for each film, which will require turning the objects in the budget and gross columns into integers."
   ]
  },
  {
   "cell_type": "code",
   "execution_count": 32,
   "metadata": {},
   "outputs": [],
   "source": [
    "def money_to_int(df_column):\n",
    "    \"\"\"\n",
    "    Takes in a pandas df column with strings representing dollar and returns the column in int\n",
    "    \"\"\"\n",
    "    return df_column.map(lambda x: int(x[1:].replace(',','')))"
   ]
  },
  {
   "cell_type": "code",
   "execution_count": 33,
   "metadata": {},
   "outputs": [
    {
     "data": {
      "text/html": [
       "<div>\n",
       "<style scoped>\n",
       "    .dataframe tbody tr th:only-of-type {\n",
       "        vertical-align: middle;\n",
       "    }\n",
       "\n",
       "    .dataframe tbody tr th {\n",
       "        vertical-align: top;\n",
       "    }\n",
       "\n",
       "    .dataframe thead th {\n",
       "        text-align: right;\n",
       "    }\n",
       "</style>\n",
       "<table border=\"1\" class=\"dataframe\">\n",
       "  <thead>\n",
       "    <tr style=\"text-align: right;\">\n",
       "      <th></th>\n",
       "      <th>id</th>\n",
       "      <th>release_date</th>\n",
       "      <th>production_budget</th>\n",
       "      <th>domestic_gross</th>\n",
       "      <th>worldwide_gross</th>\n",
       "      <th>tconst</th>\n",
       "      <th>start_year</th>\n",
       "      <th>genres</th>\n",
       "      <th>profit</th>\n",
       "    </tr>\n",
       "  </thead>\n",
       "  <tbody>\n",
       "    <tr>\n",
       "      <th>10 Days in a Madhouse</th>\n",
       "      <td>48</td>\n",
       "      <td>2015-11-11</td>\n",
       "      <td>12000000</td>\n",
       "      <td>14616</td>\n",
       "      <td>14616</td>\n",
       "      <td>tt3453052</td>\n",
       "      <td>2015</td>\n",
       "      <td>Drama</td>\n",
       "      <td>-11985384</td>\n",
       "    </tr>\n",
       "    <tr>\n",
       "      <th>12 Rounds</th>\n",
       "      <td>37</td>\n",
       "      <td>2009-03-27</td>\n",
       "      <td>20000000</td>\n",
       "      <td>12234694</td>\n",
       "      <td>17306648</td>\n",
       "      <td>tt3517850</td>\n",
       "      <td>2017</td>\n",
       "      <td>Action,Drama,Romance</td>\n",
       "      <td>-2693352</td>\n",
       "    </tr>\n",
       "    <tr>\n",
       "      <th>12 Strong</th>\n",
       "      <td>64</td>\n",
       "      <td>2018-01-19</td>\n",
       "      <td>35000000</td>\n",
       "      <td>45819713</td>\n",
       "      <td>71118378</td>\n",
       "      <td>tt1413492</td>\n",
       "      <td>2018</td>\n",
       "      <td>Action,Drama,History</td>\n",
       "      <td>36118378</td>\n",
       "    </tr>\n",
       "    <tr>\n",
       "      <th>12 Years a Slave</th>\n",
       "      <td>18</td>\n",
       "      <td>2013-10-18</td>\n",
       "      <td>20000000</td>\n",
       "      <td>56671993</td>\n",
       "      <td>181025343</td>\n",
       "      <td>tt2024544</td>\n",
       "      <td>2013</td>\n",
       "      <td>Biography,Drama,History</td>\n",
       "      <td>161025343</td>\n",
       "    </tr>\n",
       "    <tr>\n",
       "      <th>127 Hours</th>\n",
       "      <td>6</td>\n",
       "      <td>2010-11-05</td>\n",
       "      <td>18000000</td>\n",
       "      <td>18335230</td>\n",
       "      <td>60217171</td>\n",
       "      <td>tt1542344</td>\n",
       "      <td>2010</td>\n",
       "      <td>Adventure,Biography,Drama</td>\n",
       "      <td>42217171</td>\n",
       "    </tr>\n",
       "  </tbody>\n",
       "</table>\n",
       "</div>"
      ],
      "text/plain": [
       "                       id release_date  production_budget  domestic_gross  \\\n",
       "10 Days in a Madhouse  48   2015-11-11           12000000           14616   \n",
       "12 Rounds              37   2009-03-27           20000000        12234694   \n",
       "12 Strong              64   2018-01-19           35000000        45819713   \n",
       "12 Years a Slave       18   2013-10-18           20000000        56671993   \n",
       "127 Hours               6   2010-11-05           18000000        18335230   \n",
       "\n",
       "                       worldwide_gross     tconst  start_year  \\\n",
       "10 Days in a Madhouse            14616  tt3453052        2015   \n",
       "12 Rounds                     17306648  tt3517850        2017   \n",
       "12 Strong                     71118378  tt1413492        2018   \n",
       "12 Years a Slave             181025343  tt2024544        2013   \n",
       "127 Hours                     60217171  tt1542344        2010   \n",
       "\n",
       "                                          genres     profit  \n",
       "10 Days in a Madhouse                      Drama  -11985384  \n",
       "12 Rounds                   Action,Drama,Romance   -2693352  \n",
       "12 Strong                   Action,Drama,History   36118378  \n",
       "12 Years a Slave         Biography,Drama,History  161025343  \n",
       "127 Hours              Adventure,Biography,Drama   42217171  "
      ]
     },
     "execution_count": 33,
     "metadata": {},
     "output_type": "execute_result"
    }
   ],
   "source": [
    "budget_genre_df['production_budget'] = money_to_int(budget_genre_df['production_budget'])\n",
    "budget_genre_df = budget_genre_df[budget_genre_df['production_budget'] >= 10000000]\n",
    "budget_genre_df = budget_genre_df[budget_genre_df['start_year'] >= 2001]\n",
    "budget_genre_df['worldwide_gross'] = money_to_int(budget_genre_df['worldwide_gross'])\n",
    "budget_genre_df['domestic_gross'] = money_to_int(budget_genre_df['domestic_gross'])\n",
    "budget_genre_df['profit'] = budget_genre_df.worldwide_gross - budget_genre_df.production_budget\n",
    "budget_genre_df['release_date'] = budget_genre_df['release_date'].map(lambda x: parser.parse(x))\n",
    "budget_genre_df.head()"
   ]
  },
  {
   "cell_type": "markdown",
   "metadata": {},
   "source": [
    "We are now in a position to analyze the relationship between both genre and release date with profit, but don't yet have the data on directors. TO do so we will join this data base with the other two, group it by director and calculate the mean profit that each director has made. "
   ]
  },
  {
   "cell_type": "code",
   "execution_count": 34,
   "metadata": {},
   "outputs": [
    {
     "name": "stdout",
     "output_type": "stream",
     "text": [
      "<class 'pandas.core.frame.DataFrame'>\n",
      "RangeIndex: 1028186 entries, 0 to 1028185\n",
      "Data columns (total 6 columns):\n",
      " #   Column      Non-Null Count    Dtype \n",
      "---  ------      --------------    ----- \n",
      " 0   tconst      1028186 non-null  object\n",
      " 1   ordering    1028186 non-null  int64 \n",
      " 2   nconst      1028186 non-null  object\n",
      " 3   category    1028186 non-null  object\n",
      " 4   job         177684 non-null   object\n",
      " 5   characters  393360 non-null   object\n",
      "dtypes: int64(1), object(5)\n",
      "memory usage: 47.1+ MB\n"
     ]
    }
   ],
   "source": [
    "principles_df.info()"
   ]
  },
  {
   "cell_type": "markdown",
   "metadata": {},
   "source": [
    "As we can see the principles database is missing values from job and character, but we are only interest in the category which is sufficient to identify directors so we will drop those columns"
   ]
  },
  {
   "cell_type": "code",
   "execution_count": 35,
   "metadata": {},
   "outputs": [
    {
     "name": "stdout",
     "output_type": "stream",
     "text": [
      "<class 'pandas.core.frame.DataFrame'>\n",
      "RangeIndex: 606648 entries, 0 to 606647\n",
      "Data columns (total 6 columns):\n",
      " #   Column              Non-Null Count   Dtype  \n",
      "---  ------              --------------   -----  \n",
      " 0   nconst              606648 non-null  object \n",
      " 1   primary_name        606648 non-null  object \n",
      " 2   birth_year          82736 non-null   float64\n",
      " 3   death_year          6783 non-null    float64\n",
      " 4   primary_profession  555308 non-null  object \n",
      " 5   known_for_titles    576444 non-null  object \n",
      "dtypes: float64(2), object(4)\n",
      "memory usage: 27.8+ MB\n"
     ]
    }
   ],
   "source": [
    "names_df.info()"
   ]
  },
  {
   "cell_type": "markdown",
   "metadata": {},
   "source": [
    "The names data base is missing a significant amount of data, but all that is relevant to us is the missing professions. We will have to drop any data mising professions and then join the tables. Since we are only interested in directors we will also drop any category rows that list something other than director."
   ]
  },
  {
   "cell_type": "code",
   "execution_count": 36,
   "metadata": {},
   "outputs": [
    {
     "data": {
      "text/html": [
       "<div>\n",
       "<style scoped>\n",
       "    .dataframe tbody tr th:only-of-type {\n",
       "        vertical-align: middle;\n",
       "    }\n",
       "\n",
       "    .dataframe tbody tr th {\n",
       "        vertical-align: top;\n",
       "    }\n",
       "\n",
       "    .dataframe thead th {\n",
       "        text-align: right;\n",
       "    }\n",
       "</style>\n",
       "<table border=\"1\" class=\"dataframe\">\n",
       "  <thead>\n",
       "    <tr style=\"text-align: right;\">\n",
       "      <th></th>\n",
       "      <th>tconst</th>\n",
       "      <th>ordering</th>\n",
       "      <th>category</th>\n",
       "      <th>primary_name</th>\n",
       "      <th>primary_profession</th>\n",
       "    </tr>\n",
       "    <tr>\n",
       "      <th>nconst</th>\n",
       "      <th></th>\n",
       "      <th></th>\n",
       "      <th></th>\n",
       "      <th></th>\n",
       "      <th></th>\n",
       "    </tr>\n",
       "  </thead>\n",
       "  <tbody>\n",
       "    <tr>\n",
       "      <th>nm0000080</th>\n",
       "      <td>tt0069049</td>\n",
       "      <td>5</td>\n",
       "      <td>director</td>\n",
       "      <td>Orson Welles</td>\n",
       "      <td>actor,director,writer</td>\n",
       "    </tr>\n",
       "    <tr>\n",
       "      <th>nm0000095</th>\n",
       "      <td>tt1605783</td>\n",
       "      <td>5</td>\n",
       "      <td>director</td>\n",
       "      <td>Woody Allen</td>\n",
       "      <td>writer,director,actor</td>\n",
       "    </tr>\n",
       "    <tr>\n",
       "      <th>nm0000095</th>\n",
       "      <td>tt1182350</td>\n",
       "      <td>5</td>\n",
       "      <td>director</td>\n",
       "      <td>Woody Allen</td>\n",
       "      <td>writer,director,actor</td>\n",
       "    </tr>\n",
       "    <tr>\n",
       "      <th>nm0000095</th>\n",
       "      <td>tt2334873</td>\n",
       "      <td>5</td>\n",
       "      <td>director</td>\n",
       "      <td>Woody Allen</td>\n",
       "      <td>writer,director,actor</td>\n",
       "    </tr>\n",
       "    <tr>\n",
       "      <th>nm0000095</th>\n",
       "      <td>tt2870756</td>\n",
       "      <td>5</td>\n",
       "      <td>director</td>\n",
       "      <td>Woody Allen</td>\n",
       "      <td>writer,director,actor</td>\n",
       "    </tr>\n",
       "  </tbody>\n",
       "</table>\n",
       "</div>"
      ],
      "text/plain": [
       "              tconst  ordering  category  primary_name     primary_profession\n",
       "nconst                                                                       \n",
       "nm0000080  tt0069049         5  director  Orson Welles  actor,director,writer\n",
       "nm0000095  tt1605783         5  director   Woody Allen  writer,director,actor\n",
       "nm0000095  tt1182350         5  director   Woody Allen  writer,director,actor\n",
       "nm0000095  tt2334873         5  director   Woody Allen  writer,director,actor\n",
       "nm0000095  tt2870756         5  director   Woody Allen  writer,director,actor"
      ]
     },
     "execution_count": 36,
     "metadata": {},
     "output_type": "execute_result"
    }
   ],
   "source": [
    "principles_df = principles_df.drop(columns = ['job','characters'])\n",
    "names_df = names_df.drop(columns = ['birth_year', 'death_year', 'known_for_titles']).dropna()\n",
    "principles_df.set_index('nconst', inplace=True)\n",
    "names_df.set_index('nconst', inplace=True)\n",
    "name_profession_df = principles_df.join(names_df, how='inner')\n",
    "name_profession_df = name_profession_df[name_profession_df[\"category\"].str.contains('director')==True]\n",
    "name_profession_df.head()"
   ]
  },
  {
   "cell_type": "markdown",
   "metadata": {},
   "source": [
    "We will now join it with the budget and genre table."
   ]
  },
  {
   "cell_type": "code",
   "execution_count": 37,
   "metadata": {},
   "outputs": [
    {
     "data": {
      "text/html": [
       "<div>\n",
       "<style scoped>\n",
       "    .dataframe tbody tr th:only-of-type {\n",
       "        vertical-align: middle;\n",
       "    }\n",
       "\n",
       "    .dataframe tbody tr th {\n",
       "        vertical-align: top;\n",
       "    }\n",
       "\n",
       "    .dataframe thead th {\n",
       "        text-align: right;\n",
       "    }\n",
       "</style>\n",
       "<table border=\"1\" class=\"dataframe\">\n",
       "  <thead>\n",
       "    <tr style=\"text-align: right;\">\n",
       "      <th></th>\n",
       "      <th>nconst</th>\n",
       "      <th>category</th>\n",
       "      <th>primary_name</th>\n",
       "      <th>release_date</th>\n",
       "      <th>production_budget</th>\n",
       "      <th>domestic_gross</th>\n",
       "      <th>worldwide_gross</th>\n",
       "      <th>start_year</th>\n",
       "      <th>genres</th>\n",
       "      <th>profit</th>\n",
       "    </tr>\n",
       "    <tr>\n",
       "      <th>tconst</th>\n",
       "      <th></th>\n",
       "      <th></th>\n",
       "      <th></th>\n",
       "      <th></th>\n",
       "      <th></th>\n",
       "      <th></th>\n",
       "      <th></th>\n",
       "      <th></th>\n",
       "      <th></th>\n",
       "      <th></th>\n",
       "    </tr>\n",
       "  </thead>\n",
       "  <tbody>\n",
       "    <tr>\n",
       "      <th>tt0249516</th>\n",
       "      <td>nm0440415</td>\n",
       "      <td>director</td>\n",
       "      <td>Lawrence Kasanoff</td>\n",
       "      <td>2012-12-31</td>\n",
       "      <td>45000000</td>\n",
       "      <td>0</td>\n",
       "      <td>73706</td>\n",
       "      <td>2012</td>\n",
       "      <td>Action,Animation,Comedy</td>\n",
       "      <td>-44926294</td>\n",
       "    </tr>\n",
       "    <tr>\n",
       "      <th>tt0293429</th>\n",
       "      <td>nm2585406</td>\n",
       "      <td>director</td>\n",
       "      <td>Simon McQuoid</td>\n",
       "      <td>1995-08-18</td>\n",
       "      <td>20000000</td>\n",
       "      <td>70433227</td>\n",
       "      <td>122133227</td>\n",
       "      <td>2021</td>\n",
       "      <td>Action,Adventure,Fantasy</td>\n",
       "      <td>102133227</td>\n",
       "    </tr>\n",
       "    <tr>\n",
       "      <th>tt0337692</th>\n",
       "      <td>nm0758574</td>\n",
       "      <td>director</td>\n",
       "      <td>Walter Salles</td>\n",
       "      <td>2013-03-22</td>\n",
       "      <td>25000000</td>\n",
       "      <td>720828</td>\n",
       "      <td>9313302</td>\n",
       "      <td>2012</td>\n",
       "      <td>Adventure,Drama,Romance</td>\n",
       "      <td>-15686698</td>\n",
       "    </tr>\n",
       "  </tbody>\n",
       "</table>\n",
       "</div>"
      ],
      "text/plain": [
       "              nconst  category       primary_name release_date  \\\n",
       "tconst                                                           \n",
       "tt0249516  nm0440415  director  Lawrence Kasanoff   2012-12-31   \n",
       "tt0293429  nm2585406  director      Simon McQuoid   1995-08-18   \n",
       "tt0337692  nm0758574  director      Walter Salles   2013-03-22   \n",
       "\n",
       "           production_budget  domestic_gross  worldwide_gross  start_year  \\\n",
       "tconst                                                                      \n",
       "tt0249516           45000000               0            73706        2012   \n",
       "tt0293429           20000000        70433227        122133227        2021   \n",
       "tt0337692           25000000          720828          9313302        2012   \n",
       "\n",
       "                             genres     profit  \n",
       "tconst                                          \n",
       "tt0249516   Action,Animation,Comedy  -44926294  \n",
       "tt0293429  Action,Adventure,Fantasy  102133227  \n",
       "tt0337692   Adventure,Drama,Romance  -15686698  "
      ]
     },
     "execution_count": 37,
     "metadata": {},
     "output_type": "execute_result"
    }
   ],
   "source": [
    "budget_genre_df.set_index('tconst', inplace=True)\n",
    "name_profession_df.reset_index(inplace = True)\n",
    "name_profession_df.set_index('tconst', inplace=True)\n",
    "complete_df = name_profession_df.join(budget_genre_df, how='inner')\n",
    "complete_df = complete_df.drop(columns = ['ordering','primary_profession', 'id'])\n",
    "complete_df.head(3)"
   ]
  },
  {
   "cell_type": "markdown",
   "metadata": {},
   "source": [
    "## Data Modeling\n",
    "Describe and justify the process for analyzing or modeling the data.\n",
    "\n",
    "***\n",
    "Questions to consider:\n",
    "* How did you analyze or model the data?\n",
    "* How did you iterate on your initial approach to make it better?\n",
    "* Why are these choices appropriate given the data and the business problem?\n",
    "***"
   ]
  },
  {
   "cell_type": "markdown",
   "metadata": {},
   "source": [
    "We will begin analyzing the genre data by constructing a table which give us the mean profit for each genre as well as the std deviation. This will give us a reasonable representation of the expected profit from each genre and a rough measure of the risk."
   ]
  },
  {
   "cell_type": "code",
   "execution_count": 38,
   "metadata": {},
   "outputs": [],
   "source": [
    "# Constructing a list of all the genres in the database\n",
    "genre_list = []\n",
    "for entry in list(budget_genre_df['genres'].dropna()):\n",
    "    genres = entry.split(',')\n",
    "    for genre in genres:\n",
    "        if genre not in genre_list:\n",
    "            genre_list.append(genre)"
   ]
  },
  {
   "cell_type": "code",
   "execution_count": 39,
   "metadata": {},
   "outputs": [],
   "source": [
    "def genre_filter(df, genre):\n",
    "    \"\"\"\n",
    "    Takes a pd dataframe and filters the dataframe to only contain those movies of the specified genre\n",
    "    \"\"\"\n",
    "    return df[df[\"genres\"].str.contains(genre)==True]\n"
   ]
  },
  {
   "cell_type": "code",
   "execution_count": 40,
   "metadata": {},
   "outputs": [],
   "source": [
    "def mean_genre_profit_table(df, genres):\n",
    "    \"\"\"\n",
    "    Takes a dataframe and a list of all the genres in the df and returns a df with the mean and std\n",
    "    of the profit in millions for each genre\n",
    "    \"\"\"\n",
    "    m_s_dict = {}\n",
    "    for genre in genres:\n",
    "        profit_df = genre_filter(budget_genre_df, genre)[\"profit\"]\n",
    "        data_mean = profit_df.mean()/1000000\n",
    "        data_std = profit_df.std()/1000000\n",
    "        m_s_dict[genre] = [data_mean, data_std]\n",
    "    output_df = pd.DataFrame.from_dict(m_s_dict)\n",
    "    output_df.index = ['mean', 'std']\n",
    "    output_df = output_df.transpose().sort_values('mean')\n",
    "    return output_df   "
   ]
  },
  {
   "cell_type": "code",
   "execution_count": 42,
   "metadata": {},
   "outputs": [
    {
     "data": {
      "text/html": [
       "<div>\n",
       "<style scoped>\n",
       "    .dataframe tbody tr th:only-of-type {\n",
       "        vertical-align: middle;\n",
       "    }\n",
       "\n",
       "    .dataframe tbody tr th {\n",
       "        vertical-align: top;\n",
       "    }\n",
       "\n",
       "    .dataframe thead th {\n",
       "        text-align: right;\n",
       "    }\n",
       "</style>\n",
       "<table border=\"1\" class=\"dataframe\">\n",
       "  <thead>\n",
       "    <tr style=\"text-align: right;\">\n",
       "      <th></th>\n",
       "      <th>mean</th>\n",
       "      <th>std</th>\n",
       "    </tr>\n",
       "  </thead>\n",
       "  <tbody>\n",
       "    <tr>\n",
       "      <th>News</th>\n",
       "      <td>26.187239</td>\n",
       "      <td>26.084511</td>\n",
       "    </tr>\n",
       "    <tr>\n",
       "      <th>Western</th>\n",
       "      <td>33.310964</td>\n",
       "      <td>103.813905</td>\n",
       "    </tr>\n",
       "    <tr>\n",
       "      <th>War</th>\n",
       "      <td>36.605565</td>\n",
       "      <td>70.851314</td>\n",
       "    </tr>\n",
       "    <tr>\n",
       "      <th>Crime</th>\n",
       "      <td>51.035553</td>\n",
       "      <td>128.653109</td>\n",
       "    </tr>\n",
       "    <tr>\n",
       "      <th>Drama</th>\n",
       "      <td>51.207308</td>\n",
       "      <td>117.121185</td>\n",
       "    </tr>\n",
       "  </tbody>\n",
       "</table>\n",
       "</div>"
      ],
      "text/plain": [
       "              mean         std\n",
       "News     26.187239   26.084511\n",
       "Western  33.310964  103.813905\n",
       "War      36.605565   70.851314\n",
       "Crime    51.035553  128.653109\n",
       "Drama    51.207308  117.121185"
      ]
     },
     "execution_count": 42,
     "metadata": {},
     "output_type": "execute_result"
    }
   ],
   "source": [
    "genre_stats_df = mean_genre_profit_table(budget_genre_df, genre_list)\n",
    "genre_stats_df.head()"
   ]
  },
  {
   "cell_type": "code",
   "execution_count": 43,
   "metadata": {},
   "outputs": [
    {
     "data": {
      "image/png": "[encoded data removed]",
      "text/plain": [
       "<Figure size 1008x504 with 1 Axes>"
      ]
     },
     "metadata": {
      "needs_background": "light"
     },
     "output_type": "display_data"
    }
   ],
   "source": [
    "genre_stats_df.sort_values(by = 'mean', inplace = True)\n",
    "genre_stats_plot = genre_stats_df.plot.barh()\n",
    "genre_stats_plot.set(xlabel= \"Dollars in M\", ylabel=\"Genres\", title=\"Mean and Std Profit by Genre\");"
   ]
  },
  {
   "cell_type": "markdown",
   "metadata": {},
   "source": [
    "Musicals have been one of the more sucessful genres in the past 20 year, but have been fairly risky with fairly high variance in the profit they earn. Animation offers a good tradeoff between expect profit and risk and likely synergizes more easily with microsofts expertise."
   ]
  },
  {
   "cell_type": "markdown",
   "metadata": {},
   "source": [
    "To determine what release month is best we will construct a bar chart of the mean profit by month."
   ]
  },
  {
   "cell_type": "code",
   "execution_count": 44,
   "metadata": {},
   "outputs": [
    {
     "data": {
      "image/png": "[encoded data removed]",
      "text/plain": [
       "<Figure size 1008x504 with 1 Axes>"
      ]
     },
     "metadata": {
      "needs_background": "light"
     },
     "output_type": "display_data"
    }
   ],
   "source": [
    "release_df = pd.DataFrame()\n",
    "release_df['release_month'] = budget_genre_df['release_date'].map(lambda x: x.month)\n",
    "release_df['profit'] = budget_genre_df['profit'].map(lambda x: x/1000000)\n",
    "release_df.reset_index(inplace = True)\n",
    "release_df.drop(columns = ['tconst'])\n",
    "mean_df = release_df.groupby(by = 'release_month').mean()\n",
    "release_df = release_df.groupby(by = 'release_month').std()\n",
    "release_df.rename(columns = {'profit' : 'Std of Profit'}, inplace=True)\n",
    "release_df['Mean Profit'] = mean_df['profit']\n",
    "release_plot = release_df.plot.bar()\n",
    "release_plot.set(xlabel= \"Months\", ylabel=\"Mean Profit in Millions\", title=\"Mean Profit by Release Month\")\n",
    "xlabels = ['Jan', 'Feb', 'Mar', 'Apr', 'May', 'Jun', 'Jul', 'Aug', 'Sep', 'Oct', 'Nov', 'Dec']\n",
    "release_plot.set_xticklabels(xlabels);"
   ]
  },
  {
   "cell_type": "markdown",
   "metadata": {},
   "source": [
    "It appears that May has the highest mean profit, but july is almost as good with less variance. I would suggest a July release from this data."
   ]
  },
  {
   "cell_type": "markdown",
   "metadata": {},
   "source": [
    "To determine what director would be reasonable we will filter the database to only include animated movies and then group the database by director and sort them by the mean profit from their films to find the top five candidates."
   ]
  },
  {
   "cell_type": "code",
   "execution_count": 52,
   "metadata": {},
   "outputs": [
    {
     "data": {
      "text/html": [
       "<div>\n",
       "<style scoped>\n",
       "    .dataframe tbody tr th:only-of-type {\n",
       "        vertical-align: middle;\n",
       "    }\n",
       "\n",
       "    .dataframe tbody tr th {\n",
       "        vertical-align: top;\n",
       "    }\n",
       "\n",
       "    .dataframe thead th {\n",
       "        text-align: right;\n",
       "    }\n",
       "</style>\n",
       "<table border=\"1\" class=\"dataframe\">\n",
       "  <thead>\n",
       "    <tr style=\"text-align: right;\">\n",
       "      <th></th>\n",
       "      <th>profit</th>\n",
       "    </tr>\n",
       "    <tr>\n",
       "      <th>primary_name</th>\n",
       "      <th></th>\n",
       "    </tr>\n",
       "  </thead>\n",
       "  <tbody>\n",
       "    <tr>\n",
       "      <th>Chris Buck</th>\n",
       "      <td>1.122470e+09</td>\n",
       "    </tr>\n",
       "    <tr>\n",
       "      <th>Jennifer Lee</th>\n",
       "      <td>1.122470e+09</td>\n",
       "    </tr>\n",
       "    <tr>\n",
       "      <th>Brad Bird</th>\n",
       "      <td>1.042521e+09</td>\n",
       "    </tr>\n",
       "    <tr>\n",
       "      <th>Kyle Balda</th>\n",
       "      <td>1.023032e+09</td>\n",
       "    </tr>\n",
       "    <tr>\n",
       "      <th>Eric Guillon</th>\n",
       "      <td>9.597278e+08</td>\n",
       "    </tr>\n",
       "  </tbody>\n",
       "</table>\n",
       "</div>"
      ],
      "text/plain": [
       "                    profit\n",
       "primary_name              \n",
       "Chris Buck    1.122470e+09\n",
       "Jennifer Lee  1.122470e+09\n",
       "Brad Bird     1.042521e+09\n",
       "Kyle Balda    1.023032e+09\n",
       "Eric Guillon  9.597278e+08"
      ]
     },
     "execution_count": 52,
     "metadata": {},
     "output_type": "execute_result"
    }
   ],
   "source": [
    "animated_direct_df = complete_df[complete_df['genres'].str.contains('Animation')==True]\n",
    "animated_direct_df = animated_direct_df.drop(columns = ['start_year', 'worldwide_gross', 'domestic_gross', 'production_budget'])\n",
    "animated_direct_df = animated_direct_df.groupby(by='primary_name').mean()\n",
    "animated_direct_df.sort_values(by='profit', ascending = False, inplace = True)\n",
    "animated_direct_df.head()"
   ]
  },
  {
   "cell_type": "markdown",
   "metadata": {},
   "source": [
    "## Evaluation\n",
    "Evaluate how well your work solves the stated business problem.\n",
    "\n",
    "***\n",
    "Questions to consider:\n",
    "* How do you interpret the results?\n",
    "* How well does your model fit your data? How much better is this than your baseline model?\n",
    "* How confident are you that your results would generalize beyond the data you have?\n",
    "* How confident are you that this model would benefit the business if put into use?\n",
    "***"
   ]
  },
  {
   "cell_type": "code",
   "execution_count": null,
   "metadata": {},
   "outputs": [],
   "source": []
  },
  {
   "cell_type": "markdown",
   "metadata": {},
   "source": [
    "## Conclusions\n",
    "Provide your conclusions about the work you've done, including any limitations or next steps.\n",
    "\n",
    "***\n",
    "Questions to consider:\n",
    "* What would you recommend the business do as a result of this work?\n",
    "* What are some reasons why your analysis might not fully solve the business problem?\n",
    "* What else could you do in the future to improve this project?\n",
    "***"
   ]
  }
 ],
 "metadata": {
  "kernelspec": {
   "display_name": "Python 3",
   "language": "python",
   "name": "python3"
  },
  "language_info": {
   "codemirror_mode": {
    "name": "ipython",
    "version": 3
   },
   "file_extension": ".py",
   "mimetype": "text/x-python",
   "name": "python",
   "nbconvert_exporter": "python",
   "pygments_lexer": "ipython3",
   "version": "3.8.5"
  }
 },
 "nbformat": 4,
 "nbformat_minor": 4
}
