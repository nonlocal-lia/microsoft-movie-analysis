{
 "cells": [
  {
   "cell_type": "markdown",
   "metadata": {},
   "source": [
    "![example](images/director_shot.jpeg)"
   ]
  },
  {
   "cell_type": "markdown",
   "metadata": {},
   "source": [
    "# Microsoft Movie Recommendations\n",
    "\n",
    "**Author:** Lia Elwonger\n",
    "***"
   ]
  },
  {
   "cell_type": "markdown",
   "metadata": {},
   "source": [
    "## Overview\n",
    "\n",
    "Microsoft is perhaps best know as a software company, but has many media holding, perhaps most notably in video games via their Xbox consoles and games. How might this company leverage its capital and brand to enter into the film industry?\n",
    "\n",
    "In this project I analyze data from IMDB and The Numbers to find if there is any association between three variables: genre, director, and release date and the average profit made on a film.\n",
    "\n",
    "As result of this analysis, I suggest that Microsoft:\n",
    "* Release an animated film.\n",
    "* Hire Kyle Balder to direct it. \n",
    "* Aim to release the movie in May with July as a backup in case of delays."
   ]
  },
  {
   "cell_type": "markdown",
   "metadata": {},
   "source": [
    "## Business Problem\n",
    "\n",
    "Summary of the business problem you are trying to solve, and the data questions that you plan to answer to solve them.\n",
    "\n",
    "***\n",
    "Questions to consider:\n",
    "* What are the business's pain points related to this project?\n",
    "* How did you pick the data analysis question(s) that you did?\n",
    "* Why are these questions important from a business perspective?\n",
    "***"
   ]
  },
  {
   "cell_type": "markdown",
   "metadata": {},
   "source": [
    "## Data Understanding"
   ]
  },
  {
   "cell_type": "code",
   "execution_count": 1,
   "metadata": {},
   "outputs": [],
   "source": [
    "# Import standard packages\n",
    "import pandas as pd\n",
    "import numpy as np\n",
    "import matplotlib.pyplot as plt\n",
    "import seaborn as sns\n",
    "from dateutil import parser\n",
    "from datetime import date\n",
    "%matplotlib inline\n",
    "plt.rcParams[\"figure.figsize\"] = (10,5)\n",
    "plt.rcParams.update({'font.size': 16})"
   ]
  },
  {
   "cell_type": "markdown",
   "metadata": {},
   "source": [
    "We will be using data from IMDB and The Numbers in our analysis.\n",
    "Our target variable for all three recommendations will be total profit.\n",
    "We will look to see if there is any association between the target and three variables:\n",
    "1. Film Genre\n",
    "2. Time of Release\n",
    "3. Director"
   ]
  },
  {
   "cell_type": "markdown",
   "metadata": {},
   "source": [
    "### Budget, Revenue, and Release Date Data"
   ]
  },
  {
   "cell_type": "markdown",
   "metadata": {},
   "source": [
    "The data on budgets, revenue and release date will come from the website \"The Numbers\". It includes data on production budget as well as both domestic and world wide gross revenue, all stored as objects rather than int. There is no data on non-production related expenses such as advertizing budgets, which can also deeply imapct the profitability of a project. The release date data is stored as an object rather than datetime or int."
   ]
  },
  {
   "cell_type": "code",
   "execution_count": 2,
   "metadata": {},
   "outputs": [
    {
     "data": {
      "text/html": [
       "<div>\n",
       "<style scoped>\n",
       "    .dataframe tbody tr th:only-of-type {\n",
       "        vertical-align: middle;\n",
       "    }\n",
       "\n",
       "    .dataframe tbody tr th {\n",
       "        vertical-align: top;\n",
       "    }\n",
       "\n",
       "    .dataframe thead th {\n",
       "        text-align: right;\n",
       "    }\n",
       "</style>\n",
       "<table border=\"1\" class=\"dataframe\">\n",
       "  <thead>\n",
       "    <tr style=\"text-align: right;\">\n",
       "      <th></th>\n",
       "      <th>id</th>\n",
       "      <th>release_date</th>\n",
       "      <th>movie</th>\n",
       "      <th>production_budget</th>\n",
       "      <th>domestic_gross</th>\n",
       "      <th>worldwide_gross</th>\n",
       "    </tr>\n",
       "  </thead>\n",
       "  <tbody>\n",
       "    <tr>\n",
       "      <th>0</th>\n",
       "      <td>1</td>\n",
       "      <td>Dec 18, 2009</td>\n",
       "      <td>Avatar</td>\n",
       "      <td>$425,000,000</td>\n",
       "      <td>$760,507,625</td>\n",
       "      <td>$2,776,345,279</td>\n",
       "    </tr>\n",
       "    <tr>\n",
       "      <th>1</th>\n",
       "      <td>2</td>\n",
       "      <td>May 20, 2011</td>\n",
       "      <td>Pirates of the Caribbean: On Stranger Tides</td>\n",
       "      <td>$410,600,000</td>\n",
       "      <td>$241,063,875</td>\n",
       "      <td>$1,045,663,875</td>\n",
       "    </tr>\n",
       "    <tr>\n",
       "      <th>2</th>\n",
       "      <td>3</td>\n",
       "      <td>Jun 7, 2019</td>\n",
       "      <td>Dark Phoenix</td>\n",
       "      <td>$350,000,000</td>\n",
       "      <td>$42,762,350</td>\n",
       "      <td>$149,762,350</td>\n",
       "    </tr>\n",
       "  </tbody>\n",
       "</table>\n",
       "</div>"
      ],
      "text/plain": [
       "   id  release_date                                        movie  \\\n",
       "0   1  Dec 18, 2009                                       Avatar   \n",
       "1   2  May 20, 2011  Pirates of the Caribbean: On Stranger Tides   \n",
       "2   3   Jun 7, 2019                                 Dark Phoenix   \n",
       "\n",
       "  production_budget domestic_gross worldwide_gross  \n",
       "0      $425,000,000   $760,507,625  $2,776,345,279  \n",
       "1      $410,600,000   $241,063,875  $1,045,663,875  \n",
       "2      $350,000,000    $42,762,350    $149,762,350  "
      ]
     },
     "execution_count": 2,
     "metadata": {},
     "output_type": "execute_result"
    }
   ],
   "source": [
    "budgets_df = pd.read_csv('data/zippedData/tn.movie_budgets.csv.gz')\n",
    "budgets_df.head(3)"
   ]
  },
  {
   "cell_type": "markdown",
   "metadata": {},
   "source": [
    "This dataset appears to be free from both missing data and duplicate rows."
   ]
  },
  {
   "cell_type": "code",
   "execution_count": 3,
   "metadata": {},
   "outputs": [
    {
     "name": "stdout",
     "output_type": "stream",
     "text": [
      "<class 'pandas.core.frame.DataFrame'>\n",
      "RangeIndex: 5782 entries, 0 to 5781\n",
      "Data columns (total 6 columns):\n",
      " #   Column             Non-Null Count  Dtype \n",
      "---  ------             --------------  ----- \n",
      " 0   id                 5782 non-null   int64 \n",
      " 1   release_date       5782 non-null   object\n",
      " 2   movie              5782 non-null   object\n",
      " 3   production_budget  5782 non-null   object\n",
      " 4   domestic_gross     5782 non-null   object\n",
      " 5   worldwide_gross    5782 non-null   object\n",
      "dtypes: int64(1), object(5)\n",
      "memory usage: 271.2+ KB\n"
     ]
    }
   ],
   "source": [
    "budgets_df.info()"
   ]
  },
  {
   "cell_type": "code",
   "execution_count": 4,
   "metadata": {},
   "outputs": [
    {
     "data": {
      "text/plain": [
       "id   release_date  movie                production_budget  domestic_gross  worldwide_gross\n",
       "100  Sep 2, 2005   The Transporter 2    $32,000,000        $43,095,856     $88,978,458        1\n",
       "34   Apr 30, 2010  Housefull            $10,100,000        $1,183,658      $18,726,300        1\n",
       "     Apr 5, 2019   The Best of Enemies  $10,000,000        $10,205,616     $10,205,616        1\n",
       "     Aug 13, 2010  The Expendables      $82,000,000        $103,068,524    $268,268,174       1\n",
       "     Aug 25, 2017  Birth of the Dragon  $31,000,000        $6,901,965      $7,220,490         1\n",
       "dtype: int64"
      ]
     },
     "execution_count": 4,
     "metadata": {},
     "output_type": "execute_result"
    }
   ],
   "source": [
    "budgets_df.value_counts()[:5]"
   ]
  },
  {
   "cell_type": "markdown",
   "metadata": {},
   "source": [
    "### Genre Data"
   ]
  },
  {
   "cell_type": "markdown",
   "metadata": {},
   "source": [
    "The data on genres will come from IMDB and includes a column a containing comma seperated listing of the genres that the film has been categorized as, as well as name, runtime and release year."
   ]
  },
  {
   "cell_type": "code",
   "execution_count": 5,
   "metadata": {},
   "outputs": [
    {
     "data": {
      "text/html": [
       "<div>\n",
       "<style scoped>\n",
       "    .dataframe tbody tr th:only-of-type {\n",
       "        vertical-align: middle;\n",
       "    }\n",
       "\n",
       "    .dataframe tbody tr th {\n",
       "        vertical-align: top;\n",
       "    }\n",
       "\n",
       "    .dataframe thead th {\n",
       "        text-align: right;\n",
       "    }\n",
       "</style>\n",
       "<table border=\"1\" class=\"dataframe\">\n",
       "  <thead>\n",
       "    <tr style=\"text-align: right;\">\n",
       "      <th></th>\n",
       "      <th>tconst</th>\n",
       "      <th>primary_title</th>\n",
       "      <th>original_title</th>\n",
       "      <th>start_year</th>\n",
       "      <th>runtime_minutes</th>\n",
       "      <th>genres</th>\n",
       "    </tr>\n",
       "  </thead>\n",
       "  <tbody>\n",
       "    <tr>\n",
       "      <th>0</th>\n",
       "      <td>tt0063540</td>\n",
       "      <td>Sunghursh</td>\n",
       "      <td>Sunghursh</td>\n",
       "      <td>2013</td>\n",
       "      <td>175.0</td>\n",
       "      <td>Action,Crime,Drama</td>\n",
       "    </tr>\n",
       "    <tr>\n",
       "      <th>1</th>\n",
       "      <td>tt0066787</td>\n",
       "      <td>One Day Before the Rainy Season</td>\n",
       "      <td>Ashad Ka Ek Din</td>\n",
       "      <td>2019</td>\n",
       "      <td>114.0</td>\n",
       "      <td>Biography,Drama</td>\n",
       "    </tr>\n",
       "    <tr>\n",
       "      <th>2</th>\n",
       "      <td>tt0069049</td>\n",
       "      <td>The Other Side of the Wind</td>\n",
       "      <td>The Other Side of the Wind</td>\n",
       "      <td>2018</td>\n",
       "      <td>122.0</td>\n",
       "      <td>Drama</td>\n",
       "    </tr>\n",
       "  </tbody>\n",
       "</table>\n",
       "</div>"
      ],
      "text/plain": [
       "      tconst                    primary_title              original_title  \\\n",
       "0  tt0063540                        Sunghursh                   Sunghursh   \n",
       "1  tt0066787  One Day Before the Rainy Season             Ashad Ka Ek Din   \n",
       "2  tt0069049       The Other Side of the Wind  The Other Side of the Wind   \n",
       "\n",
       "   start_year  runtime_minutes              genres  \n",
       "0        2013            175.0  Action,Crime,Drama  \n",
       "1        2019            114.0     Biography,Drama  \n",
       "2        2018            122.0               Drama  "
      ]
     },
     "execution_count": 5,
     "metadata": {},
     "output_type": "execute_result"
    }
   ],
   "source": [
    "titles_df = pd.read_csv('data/zippedData/imdb.title.basics.csv.gz')\n",
    "titles_df.head(3)"
   ]
  },
  {
   "cell_type": "markdown",
   "metadata": {},
   "source": [
    "There don't appear to be any duplicate rows, but there is some missing runtime data and genre data"
   ]
  },
  {
   "cell_type": "code",
   "execution_count": 6,
   "metadata": {},
   "outputs": [
    {
     "name": "stdout",
     "output_type": "stream",
     "text": [
      "<class 'pandas.core.frame.DataFrame'>\n",
      "RangeIndex: 146144 entries, 0 to 146143\n",
      "Data columns (total 6 columns):\n",
      " #   Column           Non-Null Count   Dtype  \n",
      "---  ------           --------------   -----  \n",
      " 0   tconst           146144 non-null  object \n",
      " 1   primary_title    146144 non-null  object \n",
      " 2   original_title   146123 non-null  object \n",
      " 3   start_year       146144 non-null  int64  \n",
      " 4   runtime_minutes  114405 non-null  float64\n",
      " 5   genres           140736 non-null  object \n",
      "dtypes: float64(1), int64(1), object(4)\n",
      "memory usage: 6.7+ MB\n"
     ]
    }
   ],
   "source": [
    "titles_df.info()"
   ]
  },
  {
   "cell_type": "code",
   "execution_count": 7,
   "metadata": {},
   "outputs": [
    {
     "data": {
      "text/plain": [
       "tconst     primary_title                           original_title                          start_year  runtime_minutes  genres                      \n",
       "tt9916538  Kuambil Lagi Hatiku                     Kuambil Lagi Hatiku                     2019        123.0            Drama                           1\n",
       "tt2716756  And They Call It Puppy Love             And They Call It Puppy Love             2013        93.0             Crime,Drama,Romance             1\n",
       "tt2716062  The Giant Spider                        The Giant Spider                        2013        71.0             Horror,Sci-Fi                   1\n",
       "tt2716194  Tamanna                                 Tamanna                                 2014        83.0             Crime,Drama,Thriller            1\n",
       "tt2716206  Mrs. Highlander - Von einer die auszog  Mrs. Highlander - Von einer die auszog  2012        54.0             Biography,Documentary,Family    1\n",
       "dtype: int64"
      ]
     },
     "execution_count": 7,
     "metadata": {},
     "output_type": "execute_result"
    }
   ],
   "source": [
    "titles_df.value_counts()[:5]"
   ]
  },
  {
   "cell_type": "markdown",
   "metadata": {},
   "source": [
    "### Director Data"
   ]
  },
  {
   "cell_type": "markdown",
   "metadata": {},
   "source": [
    "Data for the directors names and films they worked on will come from IMDB as well and is spread over two files. One contains a listing on the role that each person perform on each film, but without their name. The other contains listing of the names of the people in the database along with the roles they typically serve, but without data on what role they play in each film they worked on. These will have to be joined."
   ]
  },
  {
   "cell_type": "code",
   "execution_count": 8,
   "metadata": {},
   "outputs": [
    {
     "data": {
      "text/html": [
       "<div>\n",
       "<style scoped>\n",
       "    .dataframe tbody tr th:only-of-type {\n",
       "        vertical-align: middle;\n",
       "    }\n",
       "\n",
       "    .dataframe tbody tr th {\n",
       "        vertical-align: top;\n",
       "    }\n",
       "\n",
       "    .dataframe thead th {\n",
       "        text-align: right;\n",
       "    }\n",
       "</style>\n",
       "<table border=\"1\" class=\"dataframe\">\n",
       "  <thead>\n",
       "    <tr style=\"text-align: right;\">\n",
       "      <th></th>\n",
       "      <th>tconst</th>\n",
       "      <th>ordering</th>\n",
       "      <th>nconst</th>\n",
       "      <th>category</th>\n",
       "      <th>job</th>\n",
       "      <th>characters</th>\n",
       "    </tr>\n",
       "  </thead>\n",
       "  <tbody>\n",
       "    <tr>\n",
       "      <th>0</th>\n",
       "      <td>tt0111414</td>\n",
       "      <td>1</td>\n",
       "      <td>nm0246005</td>\n",
       "      <td>actor</td>\n",
       "      <td>NaN</td>\n",
       "      <td>[\"The Man\"]</td>\n",
       "    </tr>\n",
       "    <tr>\n",
       "      <th>1</th>\n",
       "      <td>tt0111414</td>\n",
       "      <td>2</td>\n",
       "      <td>nm0398271</td>\n",
       "      <td>director</td>\n",
       "      <td>NaN</td>\n",
       "      <td>NaN</td>\n",
       "    </tr>\n",
       "    <tr>\n",
       "      <th>2</th>\n",
       "      <td>tt0111414</td>\n",
       "      <td>3</td>\n",
       "      <td>nm3739909</td>\n",
       "      <td>producer</td>\n",
       "      <td>producer</td>\n",
       "      <td>NaN</td>\n",
       "    </tr>\n",
       "  </tbody>\n",
       "</table>\n",
       "</div>"
      ],
      "text/plain": [
       "      tconst  ordering     nconst  category       job   characters\n",
       "0  tt0111414         1  nm0246005     actor       NaN  [\"The Man\"]\n",
       "1  tt0111414         2  nm0398271  director       NaN          NaN\n",
       "2  tt0111414         3  nm3739909  producer  producer          NaN"
      ]
     },
     "execution_count": 8,
     "metadata": {},
     "output_type": "execute_result"
    }
   ],
   "source": [
    "principles_df = pd.read_csv('data/zippedData/imdb.title.principals.csv.gz')\n",
    "principles_df.head(3)"
   ]
  },
  {
   "cell_type": "code",
   "execution_count": 9,
   "metadata": {
    "scrolled": true
   },
   "outputs": [
    {
     "data": {
      "text/html": [
       "<div>\n",
       "<style scoped>\n",
       "    .dataframe tbody tr th:only-of-type {\n",
       "        vertical-align: middle;\n",
       "    }\n",
       "\n",
       "    .dataframe tbody tr th {\n",
       "        vertical-align: top;\n",
       "    }\n",
       "\n",
       "    .dataframe thead th {\n",
       "        text-align: right;\n",
       "    }\n",
       "</style>\n",
       "<table border=\"1\" class=\"dataframe\">\n",
       "  <thead>\n",
       "    <tr style=\"text-align: right;\">\n",
       "      <th></th>\n",
       "      <th>nconst</th>\n",
       "      <th>primary_name</th>\n",
       "      <th>birth_year</th>\n",
       "      <th>death_year</th>\n",
       "      <th>primary_profession</th>\n",
       "      <th>known_for_titles</th>\n",
       "    </tr>\n",
       "  </thead>\n",
       "  <tbody>\n",
       "    <tr>\n",
       "      <th>0</th>\n",
       "      <td>nm0061671</td>\n",
       "      <td>Mary Ellen Bauder</td>\n",
       "      <td>NaN</td>\n",
       "      <td>NaN</td>\n",
       "      <td>miscellaneous,production_manager,producer</td>\n",
       "      <td>tt0837562,tt2398241,tt0844471,tt0118553</td>\n",
       "    </tr>\n",
       "    <tr>\n",
       "      <th>1</th>\n",
       "      <td>nm0061865</td>\n",
       "      <td>Joseph Bauer</td>\n",
       "      <td>NaN</td>\n",
       "      <td>NaN</td>\n",
       "      <td>composer,music_department,sound_department</td>\n",
       "      <td>tt0896534,tt6791238,tt0287072,tt1682940</td>\n",
       "    </tr>\n",
       "    <tr>\n",
       "      <th>2</th>\n",
       "      <td>nm0062070</td>\n",
       "      <td>Bruce Baum</td>\n",
       "      <td>NaN</td>\n",
       "      <td>NaN</td>\n",
       "      <td>miscellaneous,actor,writer</td>\n",
       "      <td>tt1470654,tt0363631,tt0104030,tt0102898</td>\n",
       "    </tr>\n",
       "  </tbody>\n",
       "</table>\n",
       "</div>"
      ],
      "text/plain": [
       "      nconst       primary_name  birth_year  death_year  \\\n",
       "0  nm0061671  Mary Ellen Bauder         NaN         NaN   \n",
       "1  nm0061865       Joseph Bauer         NaN         NaN   \n",
       "2  nm0062070         Bruce Baum         NaN         NaN   \n",
       "\n",
       "                           primary_profession  \\\n",
       "0   miscellaneous,production_manager,producer   \n",
       "1  composer,music_department,sound_department   \n",
       "2                  miscellaneous,actor,writer   \n",
       "\n",
       "                          known_for_titles  \n",
       "0  tt0837562,tt2398241,tt0844471,tt0118553  \n",
       "1  tt0896534,tt6791238,tt0287072,tt1682940  \n",
       "2  tt1470654,tt0363631,tt0104030,tt0102898  "
      ]
     },
     "execution_count": 9,
     "metadata": {},
     "output_type": "execute_result"
    }
   ],
   "source": [
    "names_df = pd.read_csv(\"data/zippedData/imdb.name.basics.csv.gz\") \n",
    "names_df.head(3)"
   ]
  },
  {
   "cell_type": "markdown",
   "metadata": {},
   "source": [
    "Both dataset contain missing data, but not in the columns that will be relevant for our analysis."
   ]
  },
  {
   "cell_type": "code",
   "execution_count": 10,
   "metadata": {},
   "outputs": [
    {
     "name": "stdout",
     "output_type": "stream",
     "text": [
      "<class 'pandas.core.frame.DataFrame'>\n",
      "RangeIndex: 1028186 entries, 0 to 1028185\n",
      "Data columns (total 6 columns):\n",
      " #   Column      Non-Null Count    Dtype \n",
      "---  ------      --------------    ----- \n",
      " 0   tconst      1028186 non-null  object\n",
      " 1   ordering    1028186 non-null  int64 \n",
      " 2   nconst      1028186 non-null  object\n",
      " 3   category    1028186 non-null  object\n",
      " 4   job         177684 non-null   object\n",
      " 5   characters  393360 non-null   object\n",
      "dtypes: int64(1), object(5)\n",
      "memory usage: 47.1+ MB\n"
     ]
    }
   ],
   "source": [
    "principles_df.info()"
   ]
  },
  {
   "cell_type": "code",
   "execution_count": 11,
   "metadata": {},
   "outputs": [
    {
     "name": "stdout",
     "output_type": "stream",
     "text": [
      "<class 'pandas.core.frame.DataFrame'>\n",
      "RangeIndex: 606648 entries, 0 to 606647\n",
      "Data columns (total 6 columns):\n",
      " #   Column              Non-Null Count   Dtype  \n",
      "---  ------              --------------   -----  \n",
      " 0   nconst              606648 non-null  object \n",
      " 1   primary_name        606648 non-null  object \n",
      " 2   birth_year          82736 non-null   float64\n",
      " 3   death_year          6783 non-null    float64\n",
      " 4   primary_profession  555308 non-null  object \n",
      " 5   known_for_titles    576444 non-null  object \n",
      "dtypes: float64(2), object(4)\n",
      "memory usage: 27.8+ MB\n"
     ]
    }
   ],
   "source": [
    "names_df.info()"
   ]
  },
  {
   "cell_type": "markdown",
   "metadata": {},
   "source": [
    "## Data Preparation"
   ]
  },
  {
   "cell_type": "markdown",
   "metadata": {},
   "source": [
    "We will begin by joining the dataframes containing the genre information and the budget information and droping some columns that are irrelevant to our analysis."
   ]
  },
  {
   "cell_type": "code",
   "execution_count": 12,
   "metadata": {},
   "outputs": [
    {
     "data": {
      "text/html": [
       "<div>\n",
       "<style scoped>\n",
       "    .dataframe tbody tr th:only-of-type {\n",
       "        vertical-align: middle;\n",
       "    }\n",
       "\n",
       "    .dataframe tbody tr th {\n",
       "        vertical-align: top;\n",
       "    }\n",
       "\n",
       "    .dataframe thead th {\n",
       "        text-align: right;\n",
       "    }\n",
       "</style>\n",
       "<table border=\"1\" class=\"dataframe\">\n",
       "  <thead>\n",
       "    <tr style=\"text-align: right;\">\n",
       "      <th></th>\n",
       "      <th>id</th>\n",
       "      <th>release_date</th>\n",
       "      <th>production_budget</th>\n",
       "      <th>domestic_gross</th>\n",
       "      <th>worldwide_gross</th>\n",
       "      <th>tconst</th>\n",
       "      <th>start_year</th>\n",
       "      <th>genres</th>\n",
       "    </tr>\n",
       "  </thead>\n",
       "  <tbody>\n",
       "    <tr>\n",
       "      <th>#Horror</th>\n",
       "      <td>16</td>\n",
       "      <td>Nov 20, 2015</td>\n",
       "      <td>$1,500,000</td>\n",
       "      <td>$0</td>\n",
       "      <td>$0</td>\n",
       "      <td>tt3526286</td>\n",
       "      <td>2015</td>\n",
       "      <td>Crime,Drama,Horror</td>\n",
       "    </tr>\n",
       "    <tr>\n",
       "      <th>10 Cloverfield Lane</th>\n",
       "      <td>54</td>\n",
       "      <td>Mar 11, 2016</td>\n",
       "      <td>$5,000,000</td>\n",
       "      <td>$72,082,999</td>\n",
       "      <td>$108,286,422</td>\n",
       "      <td>tt1179933</td>\n",
       "      <td>2016</td>\n",
       "      <td>Drama,Horror,Mystery</td>\n",
       "    </tr>\n",
       "    <tr>\n",
       "      <th>10 Days in a Madhouse</th>\n",
       "      <td>48</td>\n",
       "      <td>Nov 11, 2015</td>\n",
       "      <td>$12,000,000</td>\n",
       "      <td>$14,616</td>\n",
       "      <td>$14,616</td>\n",
       "      <td>tt3453052</td>\n",
       "      <td>2015</td>\n",
       "      <td>Drama</td>\n",
       "    </tr>\n",
       "    <tr>\n",
       "      <th>12 Rounds</th>\n",
       "      <td>37</td>\n",
       "      <td>Mar 27, 2009</td>\n",
       "      <td>$20,000,000</td>\n",
       "      <td>$12,234,694</td>\n",
       "      <td>$17,306,648</td>\n",
       "      <td>tt3517850</td>\n",
       "      <td>2017</td>\n",
       "      <td>Action,Drama,Romance</td>\n",
       "    </tr>\n",
       "    <tr>\n",
       "      <th>12 Strong</th>\n",
       "      <td>64</td>\n",
       "      <td>Jan 19, 2018</td>\n",
       "      <td>$35,000,000</td>\n",
       "      <td>$45,819,713</td>\n",
       "      <td>$71,118,378</td>\n",
       "      <td>tt1413492</td>\n",
       "      <td>2018</td>\n",
       "      <td>Action,Drama,History</td>\n",
       "    </tr>\n",
       "  </tbody>\n",
       "</table>\n",
       "</div>"
      ],
      "text/plain": [
       "                       id  release_date production_budget domestic_gross  \\\n",
       "#Horror                16  Nov 20, 2015        $1,500,000             $0   \n",
       "10 Cloverfield Lane    54  Mar 11, 2016        $5,000,000    $72,082,999   \n",
       "10 Days in a Madhouse  48  Nov 11, 2015       $12,000,000        $14,616   \n",
       "12 Rounds              37  Mar 27, 2009       $20,000,000    $12,234,694   \n",
       "12 Strong              64  Jan 19, 2018       $35,000,000    $45,819,713   \n",
       "\n",
       "                      worldwide_gross     tconst  start_year  \\\n",
       "#Horror                            $0  tt3526286        2015   \n",
       "10 Cloverfield Lane      $108,286,422  tt1179933        2016   \n",
       "10 Days in a Madhouse         $14,616  tt3453052        2015   \n",
       "12 Rounds                 $17,306,648  tt3517850        2017   \n",
       "12 Strong                 $71,118,378  tt1413492        2018   \n",
       "\n",
       "                                     genres  \n",
       "#Horror                  Crime,Drama,Horror  \n",
       "10 Cloverfield Lane    Drama,Horror,Mystery  \n",
       "10 Days in a Madhouse                 Drama  \n",
       "12 Rounds              Action,Drama,Romance  \n",
       "12 Strong              Action,Drama,History  "
      ]
     },
     "execution_count": 12,
     "metadata": {},
     "output_type": "execute_result"
    }
   ],
   "source": [
    "# Here you run your code to clean the data\n",
    "budgets_df.set_index('movie', inplace=True)\n",
    "titles_df.set_index('primary_title', inplace=True)\n",
    "budget_genre_df = budgets_df.join(titles_df, how='inner')\n",
    "budget_genre_df.drop(columns = ['original_title', 'runtime_minutes'], inplace=True)\n",
    "budget_genre_df.head()"
   ]
  },
  {
   "cell_type": "markdown",
   "metadata": {},
   "source": [
    "Above we can see an anomoly caused by joining two datasets that don't have a common key other than their name. 12 Rounds is listed as being released in 2009 in The Numbers data, but in 2017 in the IMDB data, this is because there are two distinct films called \"12 Rounds\". We will drop any rows with this analomy, and assume that two identically named films are not released in the same year. To do that we will convert the release date into a datetime and then drop any rows where release date and start_year do not align."
   ]
  },
  {
   "cell_type": "code",
   "execution_count": 13,
   "metadata": {},
   "outputs": [],
   "source": [
    "budget_genre_df['release_date'] = budget_genre_df['release_date'].map(lambda x: parser.parse(x))\n",
    "budget_genre_df['the_number_year'] = budget_genre_df['release_date'].dt.year"
   ]
  },
  {
   "cell_type": "code",
   "execution_count": 14,
   "metadata": {},
   "outputs": [],
   "source": [
    "budget_genre_df = budget_genre_df[budget_genre_df['the_number_year'] == budget_genre_df['start_year']]"
   ]
  },
  {
   "cell_type": "code",
   "execution_count": 15,
   "metadata": {},
   "outputs": [
    {
     "data": {
      "text/html": [
       "<div>\n",
       "<style scoped>\n",
       "    .dataframe tbody tr th:only-of-type {\n",
       "        vertical-align: middle;\n",
       "    }\n",
       "\n",
       "    .dataframe tbody tr th {\n",
       "        vertical-align: top;\n",
       "    }\n",
       "\n",
       "    .dataframe thead th {\n",
       "        text-align: right;\n",
       "    }\n",
       "</style>\n",
       "<table border=\"1\" class=\"dataframe\">\n",
       "  <thead>\n",
       "    <tr style=\"text-align: right;\">\n",
       "      <th></th>\n",
       "      <th>id</th>\n",
       "      <th>release_date</th>\n",
       "      <th>production_budget</th>\n",
       "      <th>domestic_gross</th>\n",
       "      <th>worldwide_gross</th>\n",
       "      <th>tconst</th>\n",
       "      <th>start_year</th>\n",
       "      <th>genres</th>\n",
       "      <th>the_number_year</th>\n",
       "    </tr>\n",
       "  </thead>\n",
       "  <tbody>\n",
       "    <tr>\n",
       "      <th>#Horror</th>\n",
       "      <td>16</td>\n",
       "      <td>2015-11-20</td>\n",
       "      <td>$1,500,000</td>\n",
       "      <td>$0</td>\n",
       "      <td>$0</td>\n",
       "      <td>tt3526286</td>\n",
       "      <td>2015</td>\n",
       "      <td>Crime,Drama,Horror</td>\n",
       "      <td>2015</td>\n",
       "    </tr>\n",
       "    <tr>\n",
       "      <th>10 Cloverfield Lane</th>\n",
       "      <td>54</td>\n",
       "      <td>2016-03-11</td>\n",
       "      <td>$5,000,000</td>\n",
       "      <td>$72,082,999</td>\n",
       "      <td>$108,286,422</td>\n",
       "      <td>tt1179933</td>\n",
       "      <td>2016</td>\n",
       "      <td>Drama,Horror,Mystery</td>\n",
       "      <td>2016</td>\n",
       "    </tr>\n",
       "    <tr>\n",
       "      <th>10 Days in a Madhouse</th>\n",
       "      <td>48</td>\n",
       "      <td>2015-11-11</td>\n",
       "      <td>$12,000,000</td>\n",
       "      <td>$14,616</td>\n",
       "      <td>$14,616</td>\n",
       "      <td>tt3453052</td>\n",
       "      <td>2015</td>\n",
       "      <td>Drama</td>\n",
       "      <td>2015</td>\n",
       "    </tr>\n",
       "    <tr>\n",
       "      <th>12 Strong</th>\n",
       "      <td>64</td>\n",
       "      <td>2018-01-19</td>\n",
       "      <td>$35,000,000</td>\n",
       "      <td>$45,819,713</td>\n",
       "      <td>$71,118,378</td>\n",
       "      <td>tt1413492</td>\n",
       "      <td>2018</td>\n",
       "      <td>Action,Drama,History</td>\n",
       "      <td>2018</td>\n",
       "    </tr>\n",
       "    <tr>\n",
       "      <th>12 Years a Slave</th>\n",
       "      <td>18</td>\n",
       "      <td>2013-10-18</td>\n",
       "      <td>$20,000,000</td>\n",
       "      <td>$56,671,993</td>\n",
       "      <td>$181,025,343</td>\n",
       "      <td>tt2024544</td>\n",
       "      <td>2013</td>\n",
       "      <td>Biography,Drama,History</td>\n",
       "      <td>2013</td>\n",
       "    </tr>\n",
       "  </tbody>\n",
       "</table>\n",
       "</div>"
      ],
      "text/plain": [
       "                       id release_date production_budget domestic_gross  \\\n",
       "#Horror                16   2015-11-20        $1,500,000             $0   \n",
       "10 Cloverfield Lane    54   2016-03-11        $5,000,000    $72,082,999   \n",
       "10 Days in a Madhouse  48   2015-11-11       $12,000,000        $14,616   \n",
       "12 Strong              64   2018-01-19       $35,000,000    $45,819,713   \n",
       "12 Years a Slave       18   2013-10-18       $20,000,000    $56,671,993   \n",
       "\n",
       "                      worldwide_gross     tconst  start_year  \\\n",
       "#Horror                            $0  tt3526286        2015   \n",
       "10 Cloverfield Lane      $108,286,422  tt1179933        2016   \n",
       "10 Days in a Madhouse         $14,616  tt3453052        2015   \n",
       "12 Strong                 $71,118,378  tt1413492        2018   \n",
       "12 Years a Slave         $181,025,343  tt2024544        2013   \n",
       "\n",
       "                                        genres  the_number_year  \n",
       "#Horror                     Crime,Drama,Horror             2015  \n",
       "10 Cloverfield Lane       Drama,Horror,Mystery             2016  \n",
       "10 Days in a Madhouse                    Drama             2015  \n",
       "12 Strong                 Action,Drama,History             2018  \n",
       "12 Years a Slave       Biography,Drama,History             2013  "
      ]
     },
     "execution_count": 15,
     "metadata": {},
     "output_type": "execute_result"
    }
   ],
   "source": [
    "budget_genre_df.head()"
   ]
  },
  {
   "cell_type": "markdown",
   "metadata": {},
   "source": [
    "As mentioned above The data is missing a few rows of genre information. It is a fairly small bit of data, likely from films that are either difficult to categorize or no one bothered to on IMDB. We will just drop them since there is no good way to guess at what genres they may be."
   ]
  },
  {
   "cell_type": "code",
   "execution_count": 16,
   "metadata": {},
   "outputs": [
    {
     "name": "stdout",
     "output_type": "stream",
     "text": [
      "<class 'pandas.core.frame.DataFrame'>\n",
      "Index: 1541 entries, #Horror to xXx: Return of Xander Cage\n",
      "Data columns (total 9 columns):\n",
      " #   Column             Non-Null Count  Dtype         \n",
      "---  ------             --------------  -----         \n",
      " 0   id                 1541 non-null   int64         \n",
      " 1   release_date       1541 non-null   datetime64[ns]\n",
      " 2   production_budget  1541 non-null   object        \n",
      " 3   domestic_gross     1541 non-null   object        \n",
      " 4   worldwide_gross    1541 non-null   object        \n",
      " 5   tconst             1541 non-null   object        \n",
      " 6   start_year         1541 non-null   int64         \n",
      " 7   genres             1541 non-null   object        \n",
      " 8   the_number_year    1541 non-null   int64         \n",
      "dtypes: datetime64[ns](1), int64(3), object(5)\n",
      "memory usage: 120.4+ KB\n"
     ]
    }
   ],
   "source": [
    "budget_genre_df.dropna(inplace = True)\n",
    "budget_genre_df.info()"
   ]
  },
  {
   "cell_type": "markdown",
   "metadata": {},
   "source": [
    "Since microsoft is likely to spend a conisderable amount on a film to make it worth their time, we will filter the data only contain movies with budgets over $10 million.\n",
    "Since film trends are fairly variable, we will also drop movies that didn't release in the past 20 years.\n",
    "We will also insert a column that calculates the global profit for each film, which will require turning the objects in the budget and gross columns into integers. We will also turn the date into a datetime object for easier analysis."
   ]
  },
  {
   "cell_type": "code",
   "execution_count": 17,
   "metadata": {},
   "outputs": [],
   "source": [
    "def money_to_int(df_column):\n",
    "    \"\"\"\n",
    "    Takes in a pandas df column with strings representing dollar and returns the column in int\n",
    "    \"\"\"\n",
    "    return df_column.map(lambda x: int(x[1:].replace(',','')))"
   ]
  },
  {
   "cell_type": "code",
   "execution_count": 18,
   "metadata": {},
   "outputs": [
    {
     "data": {
      "text/html": [
       "<div>\n",
       "<style scoped>\n",
       "    .dataframe tbody tr th:only-of-type {\n",
       "        vertical-align: middle;\n",
       "    }\n",
       "\n",
       "    .dataframe tbody tr th {\n",
       "        vertical-align: top;\n",
       "    }\n",
       "\n",
       "    .dataframe thead th {\n",
       "        text-align: right;\n",
       "    }\n",
       "</style>\n",
       "<table border=\"1\" class=\"dataframe\">\n",
       "  <thead>\n",
       "    <tr style=\"text-align: right;\">\n",
       "      <th></th>\n",
       "      <th>id</th>\n",
       "      <th>release_date</th>\n",
       "      <th>production_budget</th>\n",
       "      <th>domestic_gross</th>\n",
       "      <th>worldwide_gross</th>\n",
       "      <th>tconst</th>\n",
       "      <th>start_year</th>\n",
       "      <th>genres</th>\n",
       "      <th>the_number_year</th>\n",
       "      <th>profit</th>\n",
       "    </tr>\n",
       "  </thead>\n",
       "  <tbody>\n",
       "    <tr>\n",
       "      <th>10 Days in a Madhouse</th>\n",
       "      <td>48</td>\n",
       "      <td>2015-11-11</td>\n",
       "      <td>12000000</td>\n",
       "      <td>14616</td>\n",
       "      <td>14616</td>\n",
       "      <td>tt3453052</td>\n",
       "      <td>2015</td>\n",
       "      <td>Drama</td>\n",
       "      <td>2015</td>\n",
       "      <td>-11985384</td>\n",
       "    </tr>\n",
       "    <tr>\n",
       "      <th>12 Strong</th>\n",
       "      <td>64</td>\n",
       "      <td>2018-01-19</td>\n",
       "      <td>35000000</td>\n",
       "      <td>45819713</td>\n",
       "      <td>71118378</td>\n",
       "      <td>tt1413492</td>\n",
       "      <td>2018</td>\n",
       "      <td>Action,Drama,History</td>\n",
       "      <td>2018</td>\n",
       "      <td>36118378</td>\n",
       "    </tr>\n",
       "    <tr>\n",
       "      <th>12 Years a Slave</th>\n",
       "      <td>18</td>\n",
       "      <td>2013-10-18</td>\n",
       "      <td>20000000</td>\n",
       "      <td>56671993</td>\n",
       "      <td>181025343</td>\n",
       "      <td>tt2024544</td>\n",
       "      <td>2013</td>\n",
       "      <td>Biography,Drama,History</td>\n",
       "      <td>2013</td>\n",
       "      <td>161025343</td>\n",
       "    </tr>\n",
       "    <tr>\n",
       "      <th>127 Hours</th>\n",
       "      <td>6</td>\n",
       "      <td>2010-11-05</td>\n",
       "      <td>18000000</td>\n",
       "      <td>18335230</td>\n",
       "      <td>60217171</td>\n",
       "      <td>tt1542344</td>\n",
       "      <td>2010</td>\n",
       "      <td>Adventure,Biography,Drama</td>\n",
       "      <td>2010</td>\n",
       "      <td>42217171</td>\n",
       "    </tr>\n",
       "    <tr>\n",
       "      <th>2 Guns</th>\n",
       "      <td>39</td>\n",
       "      <td>2013-08-02</td>\n",
       "      <td>61000000</td>\n",
       "      <td>75612460</td>\n",
       "      <td>132493015</td>\n",
       "      <td>tt1272878</td>\n",
       "      <td>2013</td>\n",
       "      <td>Action,Comedy,Crime</td>\n",
       "      <td>2013</td>\n",
       "      <td>71493015</td>\n",
       "    </tr>\n",
       "  </tbody>\n",
       "</table>\n",
       "</div>"
      ],
      "text/plain": [
       "                       id release_date  production_budget  domestic_gross  \\\n",
       "10 Days in a Madhouse  48   2015-11-11           12000000           14616   \n",
       "12 Strong              64   2018-01-19           35000000        45819713   \n",
       "12 Years a Slave       18   2013-10-18           20000000        56671993   \n",
       "127 Hours               6   2010-11-05           18000000        18335230   \n",
       "2 Guns                 39   2013-08-02           61000000        75612460   \n",
       "\n",
       "                       worldwide_gross     tconst  start_year  \\\n",
       "10 Days in a Madhouse            14616  tt3453052        2015   \n",
       "12 Strong                     71118378  tt1413492        2018   \n",
       "12 Years a Slave             181025343  tt2024544        2013   \n",
       "127 Hours                     60217171  tt1542344        2010   \n",
       "2 Guns                       132493015  tt1272878        2013   \n",
       "\n",
       "                                          genres  the_number_year     profit  \n",
       "10 Days in a Madhouse                      Drama             2015  -11985384  \n",
       "12 Strong                   Action,Drama,History             2018   36118378  \n",
       "12 Years a Slave         Biography,Drama,History             2013  161025343  \n",
       "127 Hours              Adventure,Biography,Drama             2010   42217171  \n",
       "2 Guns                       Action,Comedy,Crime             2013   71493015  "
      ]
     },
     "execution_count": 18,
     "metadata": {},
     "output_type": "execute_result"
    }
   ],
   "source": [
    "budget_genre_df['production_budget'] = money_to_int(budget_genre_df['production_budget'])\n",
    "budget_genre_df = budget_genre_df[budget_genre_df['production_budget'] >= 10000000]\n",
    "budget_genre_df = budget_genre_df[budget_genre_df['start_year'] >= 2001]\n",
    "budget_genre_df['worldwide_gross'] = money_to_int(budget_genre_df['worldwide_gross'])\n",
    "budget_genre_df['domestic_gross'] = money_to_int(budget_genre_df['domestic_gross'])\n",
    "budget_genre_df['profit'] = budget_genre_df.worldwide_gross - budget_genre_df.production_budget\n",
    "budget_genre_df.head()"
   ]
  },
  {
   "cell_type": "markdown",
   "metadata": {},
   "source": [
    "We are now in a position to analyze the relationship between both genre and release date with profit, but don't yet have the data on directors. To do so we will join this data base with the other two, group it by director and calculate the mean profit that each director has made. "
   ]
  },
  {
   "cell_type": "code",
   "execution_count": 19,
   "metadata": {},
   "outputs": [
    {
     "data": {
      "text/html": [
       "<div>\n",
       "<style scoped>\n",
       "    .dataframe tbody tr th:only-of-type {\n",
       "        vertical-align: middle;\n",
       "    }\n",
       "\n",
       "    .dataframe tbody tr th {\n",
       "        vertical-align: top;\n",
       "    }\n",
       "\n",
       "    .dataframe thead th {\n",
       "        text-align: right;\n",
       "    }\n",
       "</style>\n",
       "<table border=\"1\" class=\"dataframe\">\n",
       "  <thead>\n",
       "    <tr style=\"text-align: right;\">\n",
       "      <th></th>\n",
       "      <th>tconst</th>\n",
       "      <th>ordering</th>\n",
       "      <th>category</th>\n",
       "      <th>primary_name</th>\n",
       "      <th>primary_profession</th>\n",
       "    </tr>\n",
       "    <tr>\n",
       "      <th>nconst</th>\n",
       "      <th></th>\n",
       "      <th></th>\n",
       "      <th></th>\n",
       "      <th></th>\n",
       "      <th></th>\n",
       "    </tr>\n",
       "  </thead>\n",
       "  <tbody>\n",
       "    <tr>\n",
       "      <th>nm0000080</th>\n",
       "      <td>tt0069049</td>\n",
       "      <td>5</td>\n",
       "      <td>director</td>\n",
       "      <td>Orson Welles</td>\n",
       "      <td>actor,director,writer</td>\n",
       "    </tr>\n",
       "    <tr>\n",
       "      <th>nm0000095</th>\n",
       "      <td>tt1605783</td>\n",
       "      <td>5</td>\n",
       "      <td>director</td>\n",
       "      <td>Woody Allen</td>\n",
       "      <td>writer,director,actor</td>\n",
       "    </tr>\n",
       "    <tr>\n",
       "      <th>nm0000095</th>\n",
       "      <td>tt1182350</td>\n",
       "      <td>5</td>\n",
       "      <td>director</td>\n",
       "      <td>Woody Allen</td>\n",
       "      <td>writer,director,actor</td>\n",
       "    </tr>\n",
       "    <tr>\n",
       "      <th>nm0000095</th>\n",
       "      <td>tt2334873</td>\n",
       "      <td>5</td>\n",
       "      <td>director</td>\n",
       "      <td>Woody Allen</td>\n",
       "      <td>writer,director,actor</td>\n",
       "    </tr>\n",
       "    <tr>\n",
       "      <th>nm0000095</th>\n",
       "      <td>tt2870756</td>\n",
       "      <td>5</td>\n",
       "      <td>director</td>\n",
       "      <td>Woody Allen</td>\n",
       "      <td>writer,director,actor</td>\n",
       "    </tr>\n",
       "  </tbody>\n",
       "</table>\n",
       "</div>"
      ],
      "text/plain": [
       "              tconst  ordering  category  primary_name     primary_profession\n",
       "nconst                                                                       \n",
       "nm0000080  tt0069049         5  director  Orson Welles  actor,director,writer\n",
       "nm0000095  tt1605783         5  director   Woody Allen  writer,director,actor\n",
       "nm0000095  tt1182350         5  director   Woody Allen  writer,director,actor\n",
       "nm0000095  tt2334873         5  director   Woody Allen  writer,director,actor\n",
       "nm0000095  tt2870756         5  director   Woody Allen  writer,director,actor"
      ]
     },
     "execution_count": 19,
     "metadata": {},
     "output_type": "execute_result"
    }
   ],
   "source": [
    "principles_df = principles_df.drop(columns = ['job','characters'])\n",
    "names_df = names_df.drop(columns = ['birth_year', 'death_year', 'known_for_titles']).dropna()\n",
    "principles_df.set_index('nconst', inplace=True)\n",
    "names_df.set_index('nconst', inplace=True)\n",
    "name_profession_df = principles_df.join(names_df, how='inner')\n",
    "name_profession_df = name_profession_df[name_profession_df[\"category\"].str.contains('director')==True]\n",
    "name_profession_df.head()"
   ]
  },
  {
   "cell_type": "markdown",
   "metadata": {},
   "source": [
    "We will now join it with the budget and genre table."
   ]
  },
  {
   "cell_type": "code",
   "execution_count": 20,
   "metadata": {},
   "outputs": [
    {
     "data": {
      "text/html": [
       "<div>\n",
       "<style scoped>\n",
       "    .dataframe tbody tr th:only-of-type {\n",
       "        vertical-align: middle;\n",
       "    }\n",
       "\n",
       "    .dataframe tbody tr th {\n",
       "        vertical-align: top;\n",
       "    }\n",
       "\n",
       "    .dataframe thead th {\n",
       "        text-align: right;\n",
       "    }\n",
       "</style>\n",
       "<table border=\"1\" class=\"dataframe\">\n",
       "  <thead>\n",
       "    <tr style=\"text-align: right;\">\n",
       "      <th></th>\n",
       "      <th>nconst</th>\n",
       "      <th>category</th>\n",
       "      <th>primary_name</th>\n",
       "      <th>release_date</th>\n",
       "      <th>production_budget</th>\n",
       "      <th>domestic_gross</th>\n",
       "      <th>worldwide_gross</th>\n",
       "      <th>genres</th>\n",
       "      <th>profit</th>\n",
       "    </tr>\n",
       "    <tr>\n",
       "      <th>tconst</th>\n",
       "      <th></th>\n",
       "      <th></th>\n",
       "      <th></th>\n",
       "      <th></th>\n",
       "      <th></th>\n",
       "      <th></th>\n",
       "      <th></th>\n",
       "      <th></th>\n",
       "      <th></th>\n",
       "    </tr>\n",
       "  </thead>\n",
       "  <tbody>\n",
       "    <tr>\n",
       "      <th>tt0249516</th>\n",
       "      <td>nm0440415</td>\n",
       "      <td>director</td>\n",
       "      <td>Lawrence Kasanoff</td>\n",
       "      <td>2012-12-31</td>\n",
       "      <td>45000000</td>\n",
       "      <td>0</td>\n",
       "      <td>73706</td>\n",
       "      <td>Action,Animation,Comedy</td>\n",
       "      <td>-44926294</td>\n",
       "    </tr>\n",
       "    <tr>\n",
       "      <th>tt0365907</th>\n",
       "      <td>nm0291082</td>\n",
       "      <td>director</td>\n",
       "      <td>Scott Frank</td>\n",
       "      <td>2014-09-19</td>\n",
       "      <td>28000000</td>\n",
       "      <td>26017685</td>\n",
       "      <td>62108587</td>\n",
       "      <td>Action,Crime,Drama</td>\n",
       "      <td>34108587</td>\n",
       "    </tr>\n",
       "    <tr>\n",
       "      <th>tt0369610</th>\n",
       "      <td>nm1119880</td>\n",
       "      <td>director</td>\n",
       "      <td>Colin Trevorrow</td>\n",
       "      <td>2015-06-12</td>\n",
       "      <td>215000000</td>\n",
       "      <td>652270625</td>\n",
       "      <td>1648854864</td>\n",
       "      <td>Action,Adventure,Sci-Fi</td>\n",
       "      <td>1433854864</td>\n",
       "    </tr>\n",
       "  </tbody>\n",
       "</table>\n",
       "</div>"
      ],
      "text/plain": [
       "              nconst  category       primary_name release_date  \\\n",
       "tconst                                                           \n",
       "tt0249516  nm0440415  director  Lawrence Kasanoff   2012-12-31   \n",
       "tt0365907  nm0291082  director        Scott Frank   2014-09-19   \n",
       "tt0369610  nm1119880  director    Colin Trevorrow   2015-06-12   \n",
       "\n",
       "           production_budget  domestic_gross  worldwide_gross  \\\n",
       "tconst                                                          \n",
       "tt0249516           45000000               0            73706   \n",
       "tt0365907           28000000        26017685         62108587   \n",
       "tt0369610          215000000       652270625       1648854864   \n",
       "\n",
       "                            genres      profit  \n",
       "tconst                                          \n",
       "tt0249516  Action,Animation,Comedy   -44926294  \n",
       "tt0365907       Action,Crime,Drama    34108587  \n",
       "tt0369610  Action,Adventure,Sci-Fi  1433854864  "
      ]
     },
     "execution_count": 20,
     "metadata": {},
     "output_type": "execute_result"
    }
   ],
   "source": [
    "budget_genre_df.set_index('tconst', inplace=True)\n",
    "name_profession_df.reset_index(inplace = True)\n",
    "name_profession_df.set_index('tconst', inplace=True)\n",
    "complete_df = name_profession_df.join(budget_genre_df, how='inner')\n",
    "complete_df = complete_df.drop(columns = ['ordering','primary_profession', 'id', 'start_year', 'the_number_year'])\n",
    "complete_df.head(3)"
   ]
  },
  {
   "cell_type": "markdown",
   "metadata": {},
   "source": [
    "We now have a dataframe connecting the directors to the profit they made on their movies."
   ]
  },
  {
   "cell_type": "markdown",
   "metadata": {},
   "source": [
    "## Data Modeling"
   ]
  },
  {
   "cell_type": "markdown",
   "metadata": {},
   "source": [
    "### Genre Analysis\n",
    "\n",
    "We will begin analyzing the genre data by constructing a table which give us the mean profit for each genre as well as the std deviation. This will give us a reasonable representation of the expected profit from each genre and a rough measure of the risk."
   ]
  },
  {
   "cell_type": "code",
   "execution_count": 21,
   "metadata": {},
   "outputs": [],
   "source": [
    "# Constructing a list of all the genres in the database\n",
    "genre_list = []\n",
    "for entry in list(budget_genre_df['genres'].dropna()):\n",
    "    genres = entry.split(',')\n",
    "    for genre in genres:\n",
    "        if genre not in genre_list:\n",
    "            genre_list.append(genre)"
   ]
  },
  {
   "cell_type": "code",
   "execution_count": 22,
   "metadata": {},
   "outputs": [],
   "source": [
    "def genre_filter(df, genre):\n",
    "    \"\"\"\n",
    "    Takes a pd dataframe and filters the dataframe to only contain those movies of the specified genre\n",
    "    \"\"\"\n",
    "    return df[df[\"genres\"].str.contains(genre)==True]\n"
   ]
  },
  {
   "cell_type": "code",
   "execution_count": 23,
   "metadata": {},
   "outputs": [],
   "source": [
    "def mean_genre_profit_table(df, genres):\n",
    "    \"\"\"\n",
    "    Takes a dataframe and a list of all the genres in the df and returns a df with the mean and std\n",
    "    of the profit in millions for each genre\n",
    "    \"\"\"\n",
    "    m_s_dict = {}\n",
    "    for genre in genres:\n",
    "        profit_df = genre_filter(budget_genre_df, genre)[\"profit\"]\n",
    "        data_mean = profit_df.mean()/1000000\n",
    "        data_std = profit_df.std()/1000000\n",
    "        m_s_dict[genre] = [data_mean, data_std]\n",
    "    output_df = pd.DataFrame.from_dict(m_s_dict)\n",
    "    output_df.index = ['mean', 'std']\n",
    "    output_df = output_df.transpose().sort_values('mean')\n",
    "    return output_df   "
   ]
  },
  {
   "cell_type": "code",
   "execution_count": 24,
   "metadata": {},
   "outputs": [
    {
     "data": {
      "text/html": [
       "<div>\n",
       "<style scoped>\n",
       "    .dataframe tbody tr th:only-of-type {\n",
       "        vertical-align: middle;\n",
       "    }\n",
       "\n",
       "    .dataframe tbody tr th {\n",
       "        vertical-align: top;\n",
       "    }\n",
       "\n",
       "    .dataframe thead th {\n",
       "        text-align: right;\n",
       "    }\n",
       "</style>\n",
       "<table border=\"1\" class=\"dataframe\">\n",
       "  <thead>\n",
       "    <tr style=\"text-align: right;\">\n",
       "      <th></th>\n",
       "      <th>mean</th>\n",
       "      <th>std</th>\n",
       "    </tr>\n",
       "  </thead>\n",
       "  <tbody>\n",
       "    <tr>\n",
       "      <th>War</th>\n",
       "      <td>35.183110</td>\n",
       "      <td>76.052106</td>\n",
       "    </tr>\n",
       "    <tr>\n",
       "      <th>Sport</th>\n",
       "      <td>35.568845</td>\n",
       "      <td>48.204104</td>\n",
       "    </tr>\n",
       "    <tr>\n",
       "      <th>History</th>\n",
       "      <td>52.593769</td>\n",
       "      <td>88.617067</td>\n",
       "    </tr>\n",
       "    <tr>\n",
       "      <th>Crime</th>\n",
       "      <td>59.323685</td>\n",
       "      <td>139.247642</td>\n",
       "    </tr>\n",
       "    <tr>\n",
       "      <th>Drama</th>\n",
       "      <td>61.611379</td>\n",
       "      <td>114.143826</td>\n",
       "    </tr>\n",
       "  </tbody>\n",
       "</table>\n",
       "</div>"
      ],
      "text/plain": [
       "              mean         std\n",
       "War      35.183110   76.052106\n",
       "Sport    35.568845   48.204104\n",
       "History  52.593769   88.617067\n",
       "Crime    59.323685  139.247642\n",
       "Drama    61.611379  114.143826"
      ]
     },
     "execution_count": 24,
     "metadata": {},
     "output_type": "execute_result"
    }
   ],
   "source": [
    "# Constructing a table with the mean and std of the profit of the movies\n",
    "genre_stats_df = mean_genre_profit_table(budget_genre_df, genre_list)\n",
    "genre_stats_df.head()"
   ]
  },
  {
   "cell_type": "code",
   "execution_count": 25,
   "metadata": {},
   "outputs": [
    {
     "data": {
      "image/png": "[encoded data removed]",
      "text/plain": [
       "<Figure size 720x360 with 1 Axes>"
      ]
     },
     "metadata": {
      "needs_background": "light"
     },
     "output_type": "display_data"
    }
   ],
   "source": [
    "# Plotting the table\n",
    "genre_stats_df.sort_values(by = 'mean', inplace = True)\n",
    "genre_stats_plot = genre_stats_df.plot.barh()\n",
    "genre_stats_plot.set(xlabel= \"Dollars in M\", ylabel=\"Genres\", title=\"Mean and Std Profit by Genre\");"
   ]
  },
  {
   "cell_type": "markdown",
   "metadata": {},
   "source": [
    "Musicals have been one of the more sucessful genres in the past 20 year, but have been fairly risky with fairly high variance in the profit they earn. Animation offers a good tradeoff between expect profit and risk, as it has the third best mean profit and is the only category where the std is less that the mean profit, meaning losses are fairly rare. Additionally, if we check the data, (see below) there are only 5 musicals in the dataset. This is a rather small sample to draw big conclusions from, and the data on animation is much more robust."
   ]
  },
  {
   "cell_type": "code",
   "execution_count": 26,
   "metadata": {},
   "outputs": [
    {
     "data": {
      "text/plain": [
       "{'Drama': 503,\n",
       " 'Action': 394,\n",
       " 'History': 37,\n",
       " 'Biography': 108,\n",
       " 'Adventure': 329,\n",
       " 'Comedy': 393,\n",
       " 'Crime': 189,\n",
       " 'Thriller': 182,\n",
       " 'Fantasy': 104,\n",
       " 'War': 14,\n",
       " 'Sport': 26,\n",
       " 'Romance': 125,\n",
       " 'Horror': 94,\n",
       " 'Sci-Fi': 111,\n",
       " 'Family': 76,\n",
       " 'Mystery': 80,\n",
       " 'Musical': 5,\n",
       " 'Music': 34,\n",
       " 'Animation': 98,\n",
       " 'Documentary': 18,\n",
       " 'Western': 7}"
      ]
     },
     "execution_count": 26,
     "metadata": {},
     "output_type": "execute_result"
    }
   ],
   "source": [
    "genre_count = dict.fromkeys(genre_list, 0)\n",
    "for entry in list(budget_genre_df['genres'].dropna()):\n",
    "    genres = entry.split(',')\n",
    "    for genre in genres:\n",
    "        genre_count[genre] += 1\n",
    "genre_count"
   ]
  },
  {
   "cell_type": "markdown",
   "metadata": {},
   "source": [
    "There are also background reasons for favoring the animation genre. The genre likely synergizes more easily with microsofts expertise since the company has animator involved in it gaming projects. Animated movies are also easier to tie into video game like content, which also cross promotion opportunities. Finally animated works often allow for addition profits to be earned from mechantise and toys."
   ]
  },
  {
   "cell_type": "markdown",
   "metadata": {},
   "source": [
    "### Release Date Analysis"
   ]
  },
  {
   "cell_type": "markdown",
   "metadata": {},
   "source": [
    "To determine what release month is best we will construct a bar chart of the mean profit by month."
   ]
  },
  {
   "cell_type": "code",
   "execution_count": 27,
   "metadata": {},
   "outputs": [
    {
     "data": {
      "image/png": "[encoded data removed]",
      "text/plain": [
       "<Figure size 720x360 with 1 Axes>"
      ]
     },
     "metadata": {
      "needs_background": "light"
     },
     "output_type": "display_data"
    }
   ],
   "source": [
    "release_df = pd.DataFrame()\n",
    "release_df['release_month'] = budget_genre_df['release_date'].map(lambda x: x.month)\n",
    "release_df['profit'] = budget_genre_df['profit'].map(lambda x: x/1000000)\n",
    "release_df.reset_index(inplace = True)\n",
    "release_df.drop(columns = ['tconst'])\n",
    "mean_df = release_df.groupby(by = 'release_month').mean()\n",
    "release_df = release_df.groupby(by = 'release_month').std()\n",
    "release_df.rename(columns = {'profit' : 'Std of Profit'}, inplace=True)\n",
    "release_df['Mean Profit'] = mean_df['profit']\n",
    "release_plot = release_df.plot.bar()\n",
    "release_plot.set(xlabel= \"Months\", ylabel=\"Mean Profit in Millions\", title=\"Mean Profit by Release Month\")\n",
    "xlabels = ['Jan', 'Feb', 'Mar', 'Apr', 'May', 'Jun', 'Jul', 'Aug', 'Sep', 'Oct', 'Nov', 'Dec']\n",
    "release_plot.set_xticklabels(xlabels);"
   ]
  },
  {
   "cell_type": "markdown",
   "metadata": {},
   "source": [
    "It appears that May has the highest mean profit, but July is almost as good with less variance. Any summer release appears reasonable from this data. Shotting for a May release with a buffer for a potential July release in case of delays may be a good strategy. This also fits with likely information about the attendence of the demographic likely to consume animation, since children have more free time during the summer."
   ]
  },
  {
   "cell_type": "markdown",
   "metadata": {},
   "source": [
    "### Director Analysis"
   ]
  },
  {
   "cell_type": "markdown",
   "metadata": {},
   "source": [
    "To determine what director would be reasonable we will filter the database to only include animated movies and then group the database by director and sort them by the mean profit from their films to find the top 10 candidates."
   ]
  },
  {
   "cell_type": "code",
   "execution_count": 28,
   "metadata": {},
   "outputs": [
    {
     "data": {
      "text/html": [
       "<div>\n",
       "<style scoped>\n",
       "    .dataframe tbody tr th:only-of-type {\n",
       "        vertical-align: middle;\n",
       "    }\n",
       "\n",
       "    .dataframe tbody tr th {\n",
       "        vertical-align: top;\n",
       "    }\n",
       "\n",
       "    .dataframe thead th {\n",
       "        text-align: right;\n",
       "    }\n",
       "</style>\n",
       "<table border=\"1\" class=\"dataframe\">\n",
       "  <thead>\n",
       "    <tr style=\"text-align: right;\">\n",
       "      <th></th>\n",
       "      <th>Mean Profit</th>\n",
       "    </tr>\n",
       "    <tr>\n",
       "      <th>primary_name</th>\n",
       "      <th></th>\n",
       "    </tr>\n",
       "  </thead>\n",
       "  <tbody>\n",
       "    <tr>\n",
       "      <th>Chris Buck</th>\n",
       "      <td>1.122470e+09</td>\n",
       "    </tr>\n",
       "    <tr>\n",
       "      <th>Jennifer Lee</th>\n",
       "      <td>1.122470e+09</td>\n",
       "    </tr>\n",
       "    <tr>\n",
       "      <th>Brad Bird</th>\n",
       "      <td>1.042521e+09</td>\n",
       "    </tr>\n",
       "    <tr>\n",
       "      <th>Kyle Balda</th>\n",
       "      <td>1.023032e+09</td>\n",
       "    </tr>\n",
       "    <tr>\n",
       "      <th>Eric Guillon</th>\n",
       "      <td>9.597278e+08</td>\n",
       "    </tr>\n",
       "    <tr>\n",
       "      <th>Jared Bush</th>\n",
       "      <td>8.694296e+08</td>\n",
       "    </tr>\n",
       "    <tr>\n",
       "      <th>Andrew Stanton</th>\n",
       "      <td>8.212152e+08</td>\n",
       "    </tr>\n",
       "    <tr>\n",
       "      <th>Angus MacLane</th>\n",
       "      <td>8.212152e+08</td>\n",
       "    </tr>\n",
       "    <tr>\n",
       "      <th>Yarrow Cheney</th>\n",
       "      <td>8.117505e+08</td>\n",
       "    </tr>\n",
       "    <tr>\n",
       "      <th>Pierre Coffin</th>\n",
       "      <td>7.778031e+08</td>\n",
       "    </tr>\n",
       "  </tbody>\n",
       "</table>\n",
       "</div>"
      ],
      "text/plain": [
       "                 Mean Profit\n",
       "primary_name                \n",
       "Chris Buck      1.122470e+09\n",
       "Jennifer Lee    1.122470e+09\n",
       "Brad Bird       1.042521e+09\n",
       "Kyle Balda      1.023032e+09\n",
       "Eric Guillon    9.597278e+08\n",
       "Jared Bush      8.694296e+08\n",
       "Andrew Stanton  8.212152e+08\n",
       "Angus MacLane   8.212152e+08\n",
       "Yarrow Cheney   8.117505e+08\n",
       "Pierre Coffin   7.778031e+08"
      ]
     },
     "execution_count": 28,
     "metadata": {},
     "output_type": "execute_result"
    }
   ],
   "source": [
    "animated_direct_df = complete_df[complete_df['genres'].str.contains('Animation')==True]\n",
    "animated_direct_df = animated_direct_df.drop(columns = ['worldwide_gross', 'domestic_gross', 'production_budget'])\n",
    "animated_direct_df = animated_direct_df.groupby(by='primary_name').mean()\n",
    "animated_direct_df.sort_values(by='profit', ascending = False, inplace = True)\n",
    "animated_direct_df.rename(columns = {'profit': 'Mean Profit'}, inplace = True)\n",
    "animated_direct_df.head(10)"
   ]
  },
  {
   "cell_type": "markdown",
   "metadata": {},
   "source": [
    "We will also look at the rankings by total profit, since some directors may have a high mean simply from having only directed one very successful film."
   ]
  },
  {
   "cell_type": "code",
   "execution_count": 29,
   "metadata": {},
   "outputs": [
    {
     "data": {
      "text/html": [
       "<div>\n",
       "<style scoped>\n",
       "    .dataframe tbody tr th:only-of-type {\n",
       "        vertical-align: middle;\n",
       "    }\n",
       "\n",
       "    .dataframe tbody tr th {\n",
       "        vertical-align: top;\n",
       "    }\n",
       "\n",
       "    .dataframe thead th {\n",
       "        text-align: right;\n",
       "    }\n",
       "</style>\n",
       "<table border=\"1\" class=\"dataframe\">\n",
       "  <thead>\n",
       "    <tr style=\"text-align: right;\">\n",
       "      <th></th>\n",
       "      <th>Mean Profit</th>\n",
       "      <th>Total Profit</th>\n",
       "    </tr>\n",
       "    <tr>\n",
       "      <th>primary_name</th>\n",
       "      <th></th>\n",
       "      <th></th>\n",
       "    </tr>\n",
       "  </thead>\n",
       "  <tbody>\n",
       "    <tr>\n",
       "      <th>Pierre Coffin</th>\n",
       "      <td>7.778031e+08</td>\n",
       "      <td>2333409158</td>\n",
       "    </tr>\n",
       "    <tr>\n",
       "      <th>Chris Renaud</th>\n",
       "      <td>5.546959e+08</td>\n",
       "      <td>2218783438</td>\n",
       "    </tr>\n",
       "    <tr>\n",
       "      <th>Kyle Balda</th>\n",
       "      <td>1.023032e+09</td>\n",
       "      <td>2046063923</td>\n",
       "    </tr>\n",
       "    <tr>\n",
       "      <th>Lee Unkrich</th>\n",
       "      <td>7.459438e+08</td>\n",
       "      <td>1491887623</td>\n",
       "    </tr>\n",
       "    <tr>\n",
       "      <th>Mike Mitchell</th>\n",
       "      <td>3.291241e+08</td>\n",
       "      <td>1316496511</td>\n",
       "    </tr>\n",
       "    <tr>\n",
       "      <th>Rich Moore</th>\n",
       "      <td>6.004706e+08</td>\n",
       "      <td>1200941137</td>\n",
       "    </tr>\n",
       "    <tr>\n",
       "      <th>Byron Howard</th>\n",
       "      <td>5.979534e+08</td>\n",
       "      <td>1195906856</td>\n",
       "    </tr>\n",
       "    <tr>\n",
       "      <th>Dean DeBlois</th>\n",
       "      <td>3.965718e+08</td>\n",
       "      <td>1189715545</td>\n",
       "    </tr>\n",
       "    <tr>\n",
       "      <th>Tom McGrath</th>\n",
       "      <td>3.932291e+08</td>\n",
       "      <td>1179687241</td>\n",
       "    </tr>\n",
       "    <tr>\n",
       "      <th>Genndy Tartakovsky</th>\n",
       "      <td>3.816954e+08</td>\n",
       "      <td>1145086072</td>\n",
       "    </tr>\n",
       "  </tbody>\n",
       "</table>\n",
       "</div>"
      ],
      "text/plain": [
       "                     Mean Profit  Total Profit\n",
       "primary_name                                  \n",
       "Pierre Coffin       7.778031e+08    2333409158\n",
       "Chris Renaud        5.546959e+08    2218783438\n",
       "Kyle Balda          1.023032e+09    2046063923\n",
       "Lee Unkrich         7.459438e+08    1491887623\n",
       "Mike Mitchell       3.291241e+08    1316496511\n",
       "Rich Moore          6.004706e+08    1200941137\n",
       "Byron Howard        5.979534e+08    1195906856\n",
       "Dean DeBlois        3.965718e+08    1189715545\n",
       "Tom McGrath         3.932291e+08    1179687241\n",
       "Genndy Tartakovsky  3.816954e+08    1145086072"
      ]
     },
     "execution_count": 29,
     "metadata": {},
     "output_type": "execute_result"
    }
   ],
   "source": [
    "total_direct_df = complete_df[complete_df['genres'].str.contains('Animation')==True]\n",
    "total_direct_df = total_direct_df.drop(columns = ['worldwide_gross', 'domestic_gross', 'production_budget'])\n",
    "animated_direct_df['Total Profit'] = total_direct_df.groupby(by='primary_name').sum()\n",
    "animated_direct_df.sort_values(by='Total Profit', ascending = False, inplace = True)\n",
    "animated_direct_df.head(10)"
   ]
  },
  {
   "cell_type": "markdown",
   "metadata": {},
   "source": [
    "Here is a chart of the top fifteen animation directors in total profit in the past 20 years, including their average profit per movie."
   ]
  },
  {
   "cell_type": "code",
   "execution_count": 30,
   "metadata": {
    "scrolled": true
   },
   "outputs": [
    {
     "data": {
      "image/png": "[encoded data removed]",
      "text/plain": [
       "<Figure size 720x360 with 1 Axes>"
      ]
     },
     "metadata": {
      "needs_background": "light"
     },
     "output_type": "display_data"
    }
   ],
   "source": [
    "animated_direct_df['Mean Profit'] = animated_direct_df['Mean Profit'].map(lambda x: x/1000000)\n",
    "animated_direct_df['Total Profit'] = animated_direct_df['Total Profit'].map(lambda x: x/1000000)\n",
    "animated_direct_df.sort_values(by='Total Profit', ascending = True, inplace = True)\n",
    "animated_direct_plot = animated_direct_df.tail(15).plot.barh()\n",
    "animated_direct_plot.set(ylabel= \"Directors\", xlabel=\"Mean and Total Profit in Millions\", title=\"Mean and Total Profit for Directors\");"
   ]
  },
  {
   "cell_type": "markdown",
   "metadata": {},
   "source": [
    "Based on this analysis Kyle Balda offers a good balance of high average return with more of a track record of success."
   ]
  },
  {
   "cell_type": "markdown",
   "metadata": {},
   "source": [
    "## Evaluation"
   ]
  },
  {
   "cell_type": "markdown",
   "metadata": {},
   "source": [
    "Any analysis done with only this data will be inherently limited. \n",
    "\n",
    "To begin with, the data only contains information about production budgets and not other expenses. For instance, if animated films are adversized much more than other film, then that would cut into the profit that this analysis suggest they have.\n",
    "\n",
    "There are also problems with inferring causal claims from this data. For example, if Hollywood expects that summer is more profitable, they will likely release their big tent poll films during that time, which will then also skew the data into suggeesting the summer is profitable. With just this data, it is difficult to tell.\n",
    "\n",
    "There are also numerous problems with making inferences from small samples, for example, many of the most profitable directors only made a couple of film, wildly successful ones such as Frozen and the Despicables franchise, but it is not clear this will be very predictive of their success in new or different projects."
   ]
  },
  {
   "cell_type": "markdown",
   "metadata": {},
   "source": [
    "## Conclusions\n",
    "\n",
    "My stated recommendations:\n",
    "\n",
    "* Release an animated film.\n",
    "* Hire Kyle Balder to direct it. \n",
    "* Aim to release the movie in May with July as a backup in case of delays.\n",
    "\n",
    "### Caveats and Future Work\n",
    "\n",
    "This leaves many other issues unresolved. What script sould the movie use and should it be connected to other Microsoft media projects, which has potential rewards in increased sales in other areas such as video games, but also risks in damaging the brand if the movie fails. There is also the open question of other merchandise tie-ins.\n",
    "\n",
    "I suggest that Microsoft:\n",
    "* Do market research into what story types and themes are popular.\n",
    "* Investigate whether it has existing media brands that would fit well with an animated film.\n",
    "* Do toy and mechandise marketing research to determine what media is likely to earn additional profit from those."
   ]
  }
 ],
 "metadata": {
  "kernelspec": {
   "display_name": "Python 3",
   "language": "python",
   "name": "python3"
  },
  "language_info": {
   "codemirror_mode": {
    "name": "ipython",
    "version": 3
   },
   "file_extension": ".py",
   "mimetype": "text/x-python",
   "name": "python",
   "nbconvert_exporter": "python",
   "pygments_lexer": "ipython3",
   "version": "3.8.5"
  }
 },
 "nbformat": 4,
 "nbformat_minor": 4
}
